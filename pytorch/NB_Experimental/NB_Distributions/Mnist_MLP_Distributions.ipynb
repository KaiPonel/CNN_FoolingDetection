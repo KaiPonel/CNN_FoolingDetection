{
 "cells": [
  {
   "cell_type": "code",
   "execution_count": 1,
   "id": "c5e18ad4",
   "metadata": {},
   "outputs": [
    {
     "name": "stderr",
     "output_type": "stream",
     "text": [
      "2023-10-30 16:07:58.673917: I tensorflow/core/platform/cpu_feature_guard.cc:193] This TensorFlow binary is optimized with oneAPI Deep Neural Network Library (oneDNN) to use the following CPU instructions in performance-critical operations:  AVX2 AVX512F FMA\n",
      "To enable them in other operations, rebuild TensorFlow with the appropriate compiler flags.\n",
      "2023-10-30 16:08:00.369232: W tensorflow/compiler/xla/stream_executor/platform/default/dso_loader.cc:64] Could not load dynamic library 'libnvinfer.so.7'; dlerror: libnvinfer.so.7: cannot open shared object file: No such file or directory; LD_LIBRARY_PATH: /scratch/ponel/python/lib/python3.8/site-packages/cv2/../../lib64:/usr/local/cuda-12.0/lib64\n",
      "2023-10-30 16:08:00.369430: W tensorflow/compiler/xla/stream_executor/platform/default/dso_loader.cc:64] Could not load dynamic library 'libnvinfer_plugin.so.7'; dlerror: libnvinfer_plugin.so.7: cannot open shared object file: No such file or directory; LD_LIBRARY_PATH: /scratch/ponel/python/lib/python3.8/site-packages/cv2/../../lib64:/usr/local/cuda-12.0/lib64\n",
      "2023-10-30 16:08:00.369453: W tensorflow/compiler/tf2tensorrt/utils/py_utils.cc:38] TF-TRT Warning: Cannot dlopen some TensorRT libraries. If you would like to use Nvidia GPU with TensorRT, please make sure the missing libraries mentioned above are installed properly.\n"
     ]
    }
   ],
   "source": [
    "import sys\n",
    "sys.path.append('/project/FoolingDetection/pytorch')\n",
    "\n",
    "from lib.VisualizationProvider import (plot_2d_distributions, \n",
    "                                       plot_scatter, \n",
    "                                       plot_gaussian_distributions,\n",
    "                                       plot_heatmap,\n",
    "                                       plot_comparison_heatmaps\n",
    "                                      )\n",
    "\n",
    "from lib.FeatureProvider import (load_all_grids, \n",
    "                                 load_all_grids_randparams,\n",
    "                                 reduce_dimensionality_umap, \n",
    "                                 reduce_dimensionality_kpca, \n",
    "                                 reduce_dimensionality_tsne\n",
    "                                )\n",
    "\n",
    "from lib.StaticMetricProvider import (test_all_introspection_technique_combinations, \n",
    "                                      calc_distributions, \n",
    "                                      get_values_from_distance_matrix, \n",
    "                                      difference_distances, \n",
    "                                      apply_log_to_distances\n",
    "                                     )\n",
    "from umap import UMAP\n",
    "from sklearn.manifold import TSNE\n",
    "from sklearn.decomposition import KernelPCA"
   ]
  },
  {
   "cell_type": "markdown",
   "id": "953a52d7",
   "metadata": {},
   "source": [
    "# Base Code "
   ]
  },
  {
   "cell_type": "code",
   "execution_count": 2,
   "id": "6690f65b",
   "metadata": {},
   "outputs": [],
   "source": [
    "MODEL_TYPE = \"mlp\"\n",
    "DATASET = \"mnist\"\n",
    "ATTACK1 = \"correct\"\n",
    "ATTACK2 = \"RandLabels\"\n",
    "ATTACK3 = \"RandParams/Cascading/4_Linear\"\n",
    "MAX_IMAGES = 300\n",
    "RANDOM_STATE = 42\n",
    "NUMBER_COMPONENTS = 2\n",
    "BASE_DIR = \"/project/FoolingDetection/pytorch/grids2\""
   ]
  },
  {
   "cell_type": "code",
   "execution_count": 3,
   "id": "1be1c19a",
   "metadata": {},
   "outputs": [
    {
     "name": "stdout",
     "output_type": "stream",
     "text": [
      "Loading grids from disk...\n",
      "Loading image 50 out of 300 (16.67%)\n",
      "Loading image 100 out of 300 (33.33%)\n",
      "Loading image 150 out of 300 (50.00%)\n",
      "Loading image 200 out of 300 (66.67%)\n",
      "Loading grids from disk...\n",
      "Loading image 50 out of 300 (16.67%)\n",
      "Loading image 100 out of 300 (33.33%)\n",
      "Loading image 150 out of 300 (50.00%)\n",
      "Loading image 200 out of 300 (66.67%)\n",
      "Loading grids from disk...\n",
      "Loading image 50 out of 300 (16.67%)\n",
      "Loading image 100 out of 300 (33.33%)\n",
      "Loading image 150 out of 300 (50.00%)\n",
      "Loading image 200 out of 300 (66.67%)\n",
      "Loading grids from disk...\n",
      "Loading image 50 out of 300 (16.67%)\n",
      "Loading image 100 out of 300 (33.33%)\n",
      "Loading image 150 out of 300 (50.00%)\n",
      "Loading image 200 out of 300 (66.67%)\n",
      "Loading grids from disk...\n",
      "Loading image 50 out of 300 (16.67%)\n",
      "Loading image 100 out of 300 (33.33%)\n",
      "Loading image 150 out of 300 (50.00%)\n",
      "Loading image 200 out of 300 (66.67%)\n",
      "Loading grids from disk...\n",
      "Loading image 50 out of 300 (16.67%)\n",
      "Loading image 100 out of 300 (33.33%)\n",
      "Loading image 150 out of 300 (50.00%)\n",
      "Loading image 200 out of 300 (66.67%)\n",
      "Loading grids from disk...\n",
      "Loading image 50 out of 300 (16.67%)\n",
      "Loading image 100 out of 300 (33.33%)\n",
      "Loading image 150 out of 300 (50.00%)\n",
      "Loading image 200 out of 300 (66.67%)\n",
      "Loading grids from disk...\n",
      "Loading image 50 out of 300 (16.67%)\n",
      "Loading image 100 out of 300 (33.33%)\n",
      "Loading image 150 out of 300 (50.00%)\n",
      "Loading image 200 out of 300 (66.67%)\n",
      "Loading grids from disk...\n",
      "Loading image 50 out of 300 (16.67%)\n",
      "Loading image 100 out of 300 (33.33%)\n",
      "Loading image 150 out of 300 (50.00%)\n",
      "Loading image 200 out of 300 (66.67%)\n",
      "Loading grids from disk...\n",
      "Loading image 50 out of 300 (16.67%)\n",
      "Loading image 100 out of 300 (33.33%)\n",
      "Loading image 150 out of 300 (50.00%)\n",
      "Loading image 200 out of 300 (66.67%)\n",
      "Loading grids from disk...\n",
      "Loading image 50 out of 300 (16.67%)\n",
      "Loading image 100 out of 300 (33.33%)\n",
      "Loading image 150 out of 300 (50.00%)\n",
      "Loading image 200 out of 300 (66.67%)\n",
      "Loading grids from disk...\n",
      "Loading image 50 out of 300 (16.67%)\n",
      "Loading image 100 out of 300 (33.33%)\n",
      "Loading image 150 out of 300 (50.00%)\n",
      "Loading image 200 out of 300 (66.67%)\n",
      "Loading grids from disk...\n",
      "Loading image 50 out of 300 (16.67%)\n",
      "Loading image 100 out of 300 (33.33%)\n",
      "Loading image 150 out of 300 (50.00%)\n",
      "Loading image 200 out of 300 (66.67%)\n",
      "Loading grids from disk...\n",
      "Loading image 50 out of 300 (16.67%)\n",
      "Loading image 100 out of 300 (33.33%)\n",
      "Loading image 150 out of 300 (50.00%)\n",
      "Loading image 200 out of 300 (66.67%)\n",
      "Loading grids from disk...\n",
      "Loading image 50 out of 300 (16.67%)\n",
      "Loading image 100 out of 300 (33.33%)\n",
      "Loading image 150 out of 300 (50.00%)\n",
      "Loading image 200 out of 300 (66.67%)\n",
      "Loading grids from disk...\n",
      "Loading image 50 out of 300 (16.67%)\n",
      "Loading image 100 out of 300 (33.33%)\n",
      "Loading image 150 out of 300 (50.00%)\n",
      "Loading image 200 out of 300 (66.67%)\n"
     ]
    }
   ],
   "source": [
    "all_grids_1 = load_all_grids(\n",
    "    base_dir=BASE_DIR,\n",
    "    model_type=MODEL_TYPE, \n",
    "    dataset=DATASET, \n",
    "    attack=ATTACK1, \n",
    "    max_images=MAX_IMAGES\n",
    ")\n",
    "all_grids_2 = load_all_grids(\n",
    "    base_dir=BASE_DIR,\n",
    "    model_type=MODEL_TYPE, \n",
    "    dataset=DATASET, \n",
    "    attack=ATTACK2, \n",
    "    max_images=MAX_IMAGES\n",
    ")\n",
    "\n",
    "distances_1, techniques, distance_functions = test_all_introspection_technique_combinations(\n",
    "    grids=all_grids_1, \n",
    "    print_results=False, \n",
    "    average_results=False,\n",
    "    use_ssim=False\n",
    ")\n",
    "distances_2, techniques, distance_functions = test_all_introspection_technique_combinations(\n",
    "    grids=all_grids_2, \n",
    "    print_results=False, \n",
    "    average_results=False,\n",
    "    use_ssim=False\n",
    ")\n",
    "\n",
    "\n",
    "difference_NoAttacked_RandLabels = difference_distances(\n",
    "    reference=distances_1, \n",
    "    delta=distances_2, \n",
    "    fold_change_and_log_scale=True\n",
    ")\n"
   ]
  },
  {
   "cell_type": "code",
   "execution_count": 4,
   "id": "1c855a64",
   "metadata": {},
   "outputs": [
    {
     "name": "stdout",
     "output_type": "stream",
     "text": [
      "Reducing dimensionality for technique backprop...\n"
     ]
    },
    {
     "name": "stderr",
     "output_type": "stream",
     "text": [
      "/scratch/ponel/python/lib/python3.8/site-packages/umap/umap_.py:1943: UserWarning: n_jobs value -1 overridden to 1 by setting random_state. Use no seed for parallelism.\n",
      "  warn(f\"n_jobs value {self.n_jobs} overridden to 1 by setting random_state. Use no seed for parallelism.\")\n"
     ]
    },
    {
     "name": "stdout",
     "output_type": "stream",
     "text": [
      "Reducing dimensionality for technique deep_lift_shap...\n"
     ]
    },
    {
     "name": "stderr",
     "output_type": "stream",
     "text": [
      "/scratch/ponel/python/lib/python3.8/site-packages/umap/umap_.py:1943: UserWarning: n_jobs value -1 overridden to 1 by setting random_state. Use no seed for parallelism.\n",
      "  warn(f\"n_jobs value {self.n_jobs} overridden to 1 by setting random_state. Use no seed for parallelism.\")\n",
      "/scratch/ponel/python/lib/python3.8/site-packages/sklearn/manifold/_spectral_embedding.py:274: UserWarning: Graph is not fully connected, spectral embedding may not work as expected.\n",
      "  warnings.warn(\n"
     ]
    },
    {
     "name": "stdout",
     "output_type": "stream",
     "text": [
      "Reducing dimensionality for technique dl...\n"
     ]
    },
    {
     "name": "stderr",
     "output_type": "stream",
     "text": [
      "/scratch/ponel/python/lib/python3.8/site-packages/umap/umap_.py:1943: UserWarning: n_jobs value -1 overridden to 1 by setting random_state. Use no seed for parallelism.\n",
      "  warn(f\"n_jobs value {self.n_jobs} overridden to 1 by setting random_state. Use no seed for parallelism.\")\n"
     ]
    },
    {
     "name": "stdout",
     "output_type": "stream",
     "text": [
      "Reducing dimensionality for technique g_t_i...\n"
     ]
    },
    {
     "name": "stderr",
     "output_type": "stream",
     "text": [
      "/scratch/ponel/python/lib/python3.8/site-packages/umap/umap_.py:1943: UserWarning: n_jobs value -1 overridden to 1 by setting random_state. Use no seed for parallelism.\n",
      "  warn(f\"n_jobs value {self.n_jobs} overridden to 1 by setting random_state. Use no seed for parallelism.\")\n"
     ]
    },
    {
     "name": "stdout",
     "output_type": "stream",
     "text": [
      "Reducing dimensionality for technique ig...\n"
     ]
    },
    {
     "name": "stderr",
     "output_type": "stream",
     "text": [
      "/scratch/ponel/python/lib/python3.8/site-packages/umap/umap_.py:1943: UserWarning: n_jobs value -1 overridden to 1 by setting random_state. Use no seed for parallelism.\n",
      "  warn(f\"n_jobs value {self.n_jobs} overridden to 1 by setting random_state. Use no seed for parallelism.\")\n"
     ]
    },
    {
     "name": "stdout",
     "output_type": "stream",
     "text": [
      "Reducing dimensionality for technique lime...\n"
     ]
    },
    {
     "name": "stderr",
     "output_type": "stream",
     "text": [
      "/scratch/ponel/python/lib/python3.8/site-packages/umap/umap_.py:1943: UserWarning: n_jobs value -1 overridden to 1 by setting random_state. Use no seed for parallelism.\n",
      "  warn(f\"n_jobs value {self.n_jobs} overridden to 1 by setting random_state. Use no seed for parallelism.\")\n"
     ]
    },
    {
     "name": "stdout",
     "output_type": "stream",
     "text": [
      "Reducing dimensionality for technique shapeley_sampling...\n"
     ]
    },
    {
     "name": "stderr",
     "output_type": "stream",
     "text": [
      "/scratch/ponel/python/lib/python3.8/site-packages/umap/umap_.py:1943: UserWarning: n_jobs value -1 overridden to 1 by setting random_state. Use no seed for parallelism.\n",
      "  warn(f\"n_jobs value {self.n_jobs} overridden to 1 by setting random_state. Use no seed for parallelism.\")\n"
     ]
    },
    {
     "name": "stdout",
     "output_type": "stream",
     "text": [
      "Reducing dimensionality for technique vgrads...\n"
     ]
    },
    {
     "name": "stderr",
     "output_type": "stream",
     "text": [
      "/scratch/ponel/python/lib/python3.8/site-packages/umap/umap_.py:1943: UserWarning: n_jobs value -1 overridden to 1 by setting random_state. Use no seed for parallelism.\n",
      "  warn(f\"n_jobs value {self.n_jobs} overridden to 1 by setting random_state. Use no seed for parallelism.\")\n"
     ]
    },
    {
     "name": "stdout",
     "output_type": "stream",
     "text": [
      "Reducing dimensionality for technique backprop...\n"
     ]
    },
    {
     "name": "stderr",
     "output_type": "stream",
     "text": [
      "/scratch/ponel/python/lib/python3.8/site-packages/umap/umap_.py:1943: UserWarning: n_jobs value -1 overridden to 1 by setting random_state. Use no seed for parallelism.\n",
      "  warn(f\"n_jobs value {self.n_jobs} overridden to 1 by setting random_state. Use no seed for parallelism.\")\n"
     ]
    },
    {
     "name": "stdout",
     "output_type": "stream",
     "text": [
      "Reducing dimensionality for technique deep_lift_shap...\n"
     ]
    },
    {
     "name": "stderr",
     "output_type": "stream",
     "text": [
      "/scratch/ponel/python/lib/python3.8/site-packages/umap/umap_.py:1943: UserWarning: n_jobs value -1 overridden to 1 by setting random_state. Use no seed for parallelism.\n",
      "  warn(f\"n_jobs value {self.n_jobs} overridden to 1 by setting random_state. Use no seed for parallelism.\")\n",
      "/scratch/ponel/python/lib/python3.8/site-packages/sklearn/manifold/_spectral_embedding.py:274: UserWarning: Graph is not fully connected, spectral embedding may not work as expected.\n",
      "  warnings.warn(\n"
     ]
    },
    {
     "name": "stdout",
     "output_type": "stream",
     "text": [
      "Reducing dimensionality for technique dl...\n"
     ]
    },
    {
     "name": "stderr",
     "output_type": "stream",
     "text": [
      "/scratch/ponel/python/lib/python3.8/site-packages/umap/umap_.py:1943: UserWarning: n_jobs value -1 overridden to 1 by setting random_state. Use no seed for parallelism.\n",
      "  warn(f\"n_jobs value {self.n_jobs} overridden to 1 by setting random_state. Use no seed for parallelism.\")\n"
     ]
    },
    {
     "name": "stdout",
     "output_type": "stream",
     "text": [
      "Reducing dimensionality for technique g_t_i...\n"
     ]
    },
    {
     "name": "stderr",
     "output_type": "stream",
     "text": [
      "/scratch/ponel/python/lib/python3.8/site-packages/umap/umap_.py:1943: UserWarning: n_jobs value -1 overridden to 1 by setting random_state. Use no seed for parallelism.\n",
      "  warn(f\"n_jobs value {self.n_jobs} overridden to 1 by setting random_state. Use no seed for parallelism.\")\n"
     ]
    },
    {
     "name": "stdout",
     "output_type": "stream",
     "text": [
      "Reducing dimensionality for technique ig...\n"
     ]
    },
    {
     "name": "stderr",
     "output_type": "stream",
     "text": [
      "/scratch/ponel/python/lib/python3.8/site-packages/umap/umap_.py:1943: UserWarning: n_jobs value -1 overridden to 1 by setting random_state. Use no seed for parallelism.\n",
      "  warn(f\"n_jobs value {self.n_jobs} overridden to 1 by setting random_state. Use no seed for parallelism.\")\n"
     ]
    },
    {
     "name": "stdout",
     "output_type": "stream",
     "text": [
      "Reducing dimensionality for technique lime...\n"
     ]
    },
    {
     "name": "stderr",
     "output_type": "stream",
     "text": [
      "/scratch/ponel/python/lib/python3.8/site-packages/umap/umap_.py:1943: UserWarning: n_jobs value -1 overridden to 1 by setting random_state. Use no seed for parallelism.\n",
      "  warn(f\"n_jobs value {self.n_jobs} overridden to 1 by setting random_state. Use no seed for parallelism.\")\n"
     ]
    },
    {
     "name": "stdout",
     "output_type": "stream",
     "text": [
      "Reducing dimensionality for technique shapeley_sampling...\n"
     ]
    },
    {
     "name": "stderr",
     "output_type": "stream",
     "text": [
      "/scratch/ponel/python/lib/python3.8/site-packages/umap/umap_.py:1943: UserWarning: n_jobs value -1 overridden to 1 by setting random_state. Use no seed for parallelism.\n",
      "  warn(f\"n_jobs value {self.n_jobs} overridden to 1 by setting random_state. Use no seed for parallelism.\")\n"
     ]
    },
    {
     "name": "stdout",
     "output_type": "stream",
     "text": [
      "Reducing dimensionality for technique vgrads...\n"
     ]
    },
    {
     "name": "stderr",
     "output_type": "stream",
     "text": [
      "/scratch/ponel/python/lib/python3.8/site-packages/umap/umap_.py:1943: UserWarning: n_jobs value -1 overridden to 1 by setting random_state. Use no seed for parallelism.\n",
      "  warn(f\"n_jobs value {self.n_jobs} overridden to 1 by setting random_state. Use no seed for parallelism.\")\n",
      "/scratch/ponel/python/lib/python3.8/site-packages/sklearn/manifold/_spectral_embedding.py:274: UserWarning: Graph is not fully connected, spectral embedding may not work as expected.\n",
      "  warnings.warn(\n"
     ]
    }
   ],
   "source": [
    "# UMap Reducer Object\n",
    "umap_reducer = UMAP(n_components=NUMBER_COMPONENTS, random_state=RANDOM_STATE)\n",
    "\n",
    "\n",
    "# UMap Transform\n",
    "all_grids_1_umap = reduce_dimensionality_umap(all_grids_1, umap_reducer)\n",
    "all_grids_2_umap = reduce_dimensionality_umap(all_grids_2, umap_reducer)\n",
    "\n",
    "\n",
    "distances_umap_1, techniques, distance_functions = test_all_introspection_technique_combinations(\n",
    "    grids=all_grids_1_umap, \n",
    "    print_results=False, \n",
    "    average_results=False,\n",
    "    use_ssim=False\n",
    ")\n",
    "distances_umap_2, techniques, distance_functions = test_all_introspection_technique_combinations(\n",
    "    grids=all_grids_2_umap, \n",
    "    print_results=False, \n",
    "    average_results=False,\n",
    "    use_ssim=False\n",
    ")\n",
    "\n",
    "difference_umap_NoAttacked_RandLabels = difference_distances(\n",
    "    reference=distances_umap_1, \n",
    "    delta=distances_umap_2, \n",
    "    fold_change_and_log_scale=True\n",
    ")"
   ]
  },
  {
   "cell_type": "code",
   "execution_count": null,
   "id": "296f3ec9",
   "metadata": {},
   "outputs": [
    {
     "name": "stdout",
     "output_type": "stream",
     "text": [
      "Reducing dimensionality for technique backprop...\n",
      "Reducing dimensionality for technique deep_lift_shap...\n"
     ]
    }
   ],
   "source": [
    "# TSNE Reducer Object\n",
    "tsne_reducer = TSNE(n_components=NUMBER_COMPONENTS, random_state=RANDOM_STATE, n_jobs=-1)\n",
    "\n",
    "# TSNE Transform\n",
    "all_grids_1_tsne =reduce_dimensionality_tsne(all_grids_1, tsne_reducer)\n",
    "all_grids_2_tsne =reduce_dimensionality_tsne(all_grids_2, tsne_reducer)\n",
    "\n",
    "distances_tsne_1, techniques, distance_functions = test_all_introspection_technique_combinations(\n",
    "    grids=all_grids_1_tsne, \n",
    "    print_results=False, \n",
    "    average_results=False,\n",
    "    use_ssim=False\n",
    ")\n",
    "distances_tsne_2, techniques, distance_functions = test_all_introspection_technique_combinations(\n",
    "    grids=all_grids_2_tsne, \n",
    "    print_results=False, \n",
    "    average_results=False,\n",
    "    use_ssim=False\n",
    ")\n",
    "\n",
    "difference_tsne_NoAttacked_RandLabels = difference_distances(\n",
    "    reference=distances_tsne_1, \n",
    "    delta=distances_tsne_2, \n",
    "    fold_change_and_log_scale=True\n",
    ")"
   ]
  },
  {
   "cell_type": "code",
   "execution_count": null,
   "id": "818d943b",
   "metadata": {},
   "outputs": [],
   "source": [
    "# kPCA Transform\n",
    "# kPCA-Linear Reducer Object\n",
    "kpca_linear_reducer = KernelPCA(\n",
    "        n_components=NUMBER_COMPONENTS, \n",
    "        kernel=\"linear\", \n",
    "        gamma=.1, \n",
    "        eigen_solver=\"auto\", \n",
    "        random_state=RANDOM_STATE, \n",
    "        alpha=10)\n",
    "\n",
    "# Linear kernel\n",
    "all_grids_1_kpca_linear = reduce_dimensionality_kpca(all_grids_1, kpca_linear_reducer)\n",
    "all_grids_2_kpca_linear = reduce_dimensionality_kpca(all_grids_2, kpca_linear_reducer)\n",
    "\n",
    "distances_kcpa_linear_1, techniques, distance_functions = test_all_introspection_technique_combinations(\n",
    "    grids=all_grids_1_kpca_linear, \n",
    "    print_results=False, \n",
    "    average_results=False,\n",
    "    use_ssim=False\n",
    ")\n",
    "distances_kcpa_linear_2, techniques, distance_functions = test_all_introspection_technique_combinations(\n",
    "    grids=all_grids_2_kpca_linear, \n",
    "    print_results=False, \n",
    "    average_results=False,\n",
    "    use_ssim=False\n",
    ")\n",
    "\n",
    "difference_kpca_linear_NoAttacked_RandLabels = difference_distances(\n",
    "    reference=distances_kcpa_linear_1, \n",
    "    delta=distances_kcpa_linear_2, \n",
    "    fold_change_and_log_scale=True\n",
    ")\n",
    "\n",
    "# Poly kernel\n",
    "\n",
    "# kPCA-Poly Reducer Object\n",
    "kpca_poly_reducer = KernelPCA(\n",
    "        n_components=NUMBER_COMPONENTS, \n",
    "        kernel=\"poly\", \n",
    "        gamma=.1, \n",
    "        eigen_solver=\"auto\", \n",
    "        random_state=RANDOM_STATE, \n",
    "        alpha=10)\n",
    "\n",
    "all_grids_1_kpca_poly = reduce_dimensionality_kpca(all_grids_1, kpca_poly_reducer)\n",
    "all_grids_2_kpca_poly = reduce_dimensionality_kpca(all_grids_2, kpca_poly_reducer)\n",
    "\n",
    "distances_kcpa_poly_1, techniques, distance_functions = test_all_introspection_technique_combinations(\n",
    "    grids=all_grids_1_kpca_poly, \n",
    "    print_results=False, \n",
    "    average_results=False,\n",
    "    use_ssim=False\n",
    ")\n",
    "distances_kcpa_poly_2, techniques, distance_functions = test_all_introspection_technique_combinations(\n",
    "    grids=all_grids_2_kpca_poly, \n",
    "    print_results=False, \n",
    "    average_results=False,\n",
    "    use_ssim=False\n",
    ")\n",
    "\n",
    "difference_kpca_poly_NoAttacked_RandLabels = difference_distances(\n",
    "    reference=distances_kcpa_poly_1, \n",
    "    delta=distances_kcpa_poly_2, \n",
    "    fold_change_and_log_scale=True\n",
    ")\n",
    "\n",
    "# Cosine kernel\n",
    "# kPCA-Cosine Reducer Object\n",
    "kpca_cosine_reducer = KernelPCA(\n",
    "        n_components=NUMBER_COMPONENTS, \n",
    "        kernel=\"cosine\", \n",
    "        gamma=.1, \n",
    "        eigen_solver=\"auto\", \n",
    "        random_state=RANDOM_STATE, \n",
    "        alpha=10)\n",
    "\n",
    "all_grids_1_kpca_cosine = reduce_dimensionality_kpca(all_grids_1, kpca_cosine_reducer)\n",
    "all_grids_2_kpca_cosine = reduce_dimensionality_kpca(all_grids_2, kpca_cosine_reducer)\n",
    "\n",
    "distances_kcpa_cosine_1, techniques, distance_functions = test_all_introspection_technique_combinations(\n",
    "    grids=all_grids_1_kpca_cosine, \n",
    "    print_results=False, \n",
    "    average_results=False,\n",
    "    use_ssim=False\n",
    ")\n",
    "distances_kcpa_cosine_2, techniques, distance_functions = test_all_introspection_technique_combinations(\n",
    "    grids=all_grids_2_kpca_cosine, \n",
    "    print_results=False, \n",
    "    average_results=False,\n",
    "    use_ssim=False\n",
    ")\n",
    "\n",
    "difference_kpca_cosine_NoAttacked_RandLabels = difference_distances(\n",
    "    reference=distances_kcpa_cosine_1, \n",
    "    delta=distances_kcpa_cosine_2, \n",
    "    fold_change_and_log_scale=True\n",
    ")\n"
   ]
  },
  {
   "cell_type": "markdown",
   "id": "4e039718",
   "metadata": {},
   "source": [
    "# Lower-Dimensional Comparison (Aggregated)\n",
    "Map the unattacked and an attacked version to a lower_dim space (n=2) and see how the distributions in this lower-dim space differ!"
   ]
  },
  {
   "cell_type": "markdown",
   "id": "8e73a186",
   "metadata": {},
   "source": [
    "## Normal vs. RandLabels"
   ]
  },
  {
   "cell_type": "markdown",
   "id": "35f2622b",
   "metadata": {},
   "source": [
    "### UMap"
   ]
  },
  {
   "cell_type": "code",
   "execution_count": null,
   "id": "68e6a10d",
   "metadata": {},
   "outputs": [],
   "source": [
    "plot_2d_distributions(all_grids_1_umap, all_grids_2_umap)"
   ]
  },
  {
   "cell_type": "code",
   "execution_count": null,
   "id": "c773d6c6",
   "metadata": {},
   "outputs": [],
   "source": [
    "plot_scatter(all_grids_1_umap, all_grids_2_umap)"
   ]
  },
  {
   "cell_type": "markdown",
   "id": "70b863ed",
   "metadata": {},
   "source": [
    "### kPCA (Linear)"
   ]
  },
  {
   "cell_type": "code",
   "execution_count": null,
   "id": "a5084292",
   "metadata": {},
   "outputs": [],
   "source": [
    "plot_2d_distributions(all_grids_1_kpca_linear, all_grids_2_kpca_linear)"
   ]
  },
  {
   "cell_type": "code",
   "execution_count": null,
   "id": "2354adef",
   "metadata": {},
   "outputs": [],
   "source": [
    "plot_scatter(all_grids_1_kpca_linear, all_grids_2_kpca_linear)"
   ]
  },
  {
   "cell_type": "markdown",
   "id": "7833a045",
   "metadata": {},
   "source": [
    "### kPCA (poly)"
   ]
  },
  {
   "cell_type": "code",
   "execution_count": null,
   "id": "a92c9bdf",
   "metadata": {},
   "outputs": [],
   "source": [
    "plot_2d_distributions(all_grids_1_kpca_poly, all_grids_2_kpca_poly)"
   ]
  },
  {
   "cell_type": "code",
   "execution_count": null,
   "id": "494756fd",
   "metadata": {},
   "outputs": [],
   "source": [
    "plot_scatter(all_grids_1_kpca_poly, all_grids_2_kpca_poly)"
   ]
  },
  {
   "cell_type": "markdown",
   "id": "0d654d18",
   "metadata": {},
   "source": [
    "### kPCA (cosine)"
   ]
  },
  {
   "cell_type": "code",
   "execution_count": null,
   "id": "435e5b95",
   "metadata": {},
   "outputs": [],
   "source": [
    "plot_2d_distributions(all_grids_1_kpca_cosine, all_grids_2_kpca_cosine)"
   ]
  },
  {
   "cell_type": "code",
   "execution_count": null,
   "id": "efd04fbc",
   "metadata": {},
   "outputs": [],
   "source": [
    "plot_scatter(all_grids_1_kpca_cosine, all_grids_2_kpca_cosine)"
   ]
  },
  {
   "cell_type": "markdown",
   "id": "cf69d0c0",
   "metadata": {},
   "source": [
    "### t-SNE"
   ]
  },
  {
   "cell_type": "code",
   "execution_count": null,
   "id": "09423db7",
   "metadata": {},
   "outputs": [],
   "source": [
    "# (this execution works but takes ages...)\n",
    "plot_2d_distributions(all_grids_1_tsne, all_grids_2_tsne)"
   ]
  },
  {
   "cell_type": "code",
   "execution_count": null,
   "id": "75d68d91",
   "metadata": {},
   "outputs": [],
   "source": [
    "plot_scatter(all_grids_1_tsne, all_grids_2_tsne)"
   ]
  },
  {
   "cell_type": "markdown",
   "id": "38140e0e",
   "metadata": {},
   "source": [
    "# Per-Image Comparison \n",
    "For a combination of two Explanation Techniques (expl1, expl2) (e.g. expl1=DeepLift, expl2=vanillaGrads) compute the distance for each image in a **Lower and High Dimensional Space**. Finally, plot the distributions. \n",
    "\n",
    "This is also done for the difference of the distances. For this the distances for an attacked and non-attacked versions are calculated and then the difference is calculated using the fold_change on a logarithmic scale. Finally, this is plotted aswell."
   ]
  },
  {
   "cell_type": "code",
   "execution_count": null,
   "id": "235705c8",
   "metadata": {},
   "outputs": [],
   "source": [
    "METRIC=\"euclidean\""
   ]
  },
  {
   "cell_type": "markdown",
   "id": "47f89504",
   "metadata": {},
   "source": [
    "## High-Dimensional "
   ]
  },
  {
   "cell_type": "markdown",
   "id": "cdc8917d",
   "metadata": {},
   "source": [
    "### No Attack"
   ]
  },
  {
   "cell_type": "code",
   "execution_count": null,
   "id": "af8492ca",
   "metadata": {},
   "outputs": [],
   "source": [
    "plot_gaussian_distributions(\n",
    "    distances=apply_log_to_distances(distances_1), \n",
    "    techniques=list(techniques), \n",
    "    metric=METRIC\n",
    ")"
   ]
  },
  {
   "cell_type": "markdown",
   "id": "d41bbb1e",
   "metadata": {},
   "source": [
    "### RandLabels Attack"
   ]
  },
  {
   "cell_type": "code",
   "execution_count": null,
   "id": "822cddb9",
   "metadata": {},
   "outputs": [],
   "source": [
    "plot_gaussian_distributions(\n",
    "    distances=apply_log_to_distances(distances_2), \n",
    "    techniques=list(techniques), \n",
    "    metric=METRIC\n",
    ")"
   ]
  },
  {
   "cell_type": "markdown",
   "id": "847a6606",
   "metadata": {},
   "source": [
    "### No Attack vs. RandLabels (Difference)"
   ]
  },
  {
   "cell_type": "code",
   "execution_count": null,
   "id": "f33b07e1",
   "metadata": {},
   "outputs": [],
   "source": [
    "plot_gaussian_distributions(\n",
    "    distances=difference_NoAttacked_RandLabels, \n",
    "    techniques=list(techniques), \n",
    "    metric=METRIC\n",
    ")"
   ]
  },
  {
   "cell_type": "markdown",
   "id": "80b18ec5",
   "metadata": {},
   "source": [
    "## UMap"
   ]
  },
  {
   "cell_type": "markdown",
   "id": "d13d8af8",
   "metadata": {},
   "source": [
    "### No Attack"
   ]
  },
  {
   "cell_type": "code",
   "execution_count": null,
   "id": "804e0d0f",
   "metadata": {},
   "outputs": [],
   "source": [
    "plot_gaussian_distributions(\n",
    "    distances=apply_log_to_distances(distances_umap_1), \n",
    "    techniques=list(techniques), \n",
    "    metric=METRIC\n",
    ")"
   ]
  },
  {
   "cell_type": "markdown",
   "id": "f8b8d039",
   "metadata": {},
   "source": [
    "### RandLabels Attack"
   ]
  },
  {
   "cell_type": "code",
   "execution_count": null,
   "id": "60bad770",
   "metadata": {},
   "outputs": [],
   "source": [
    "plot_gaussian_distributions(\n",
    "    distances=apply_log_to_distances(distances_umap_2), \n",
    "    techniques=list(techniques), \n",
    "    metric=METRIC\n",
    ")"
   ]
  },
  {
   "cell_type": "markdown",
   "id": "f62c90de",
   "metadata": {},
   "source": [
    "### No Attack vs. RandLabels (Difference)"
   ]
  },
  {
   "cell_type": "code",
   "execution_count": null,
   "id": "f62c90de",
   "metadata": {},
   "outputs": [],
   "source": [
    "plot_gaussian_distributions(\n",
    "    distances=difference_umap_NoAttacked_RandLabels, \n",
    "    techniques=list(techniques), \n",
    "    metric=METRIC\n",
    ")"
   ]
  },
  {
   "cell_type": "markdown",
   "id": "f4018cf1",
   "metadata": {},
   "source": [
    "## kPCA (Linear)"
   ]
  },
  {
   "cell_type": "markdown",
   "id": "f4018cf1",
   "metadata": {},
   "source": [
    "### No Attack"
   ]
  },
  {
   "cell_type": "code",
   "execution_count": null,
   "id": "7a5347aa",
   "metadata": {},
   "outputs": [],
   "source": [
    "plot_gaussian_distributions(\n",
    "    distances=apply_log_to_distances(distances_kcpa_linear_1), \n",
    "    techniques=list(techniques), \n",
    "    metric=METRIC\n",
    ")"
   ]
  },
  {
   "cell_type": "markdown",
   "id": "a5467073",
   "metadata": {},
   "source": [
    "### RandLabels Attack"
   ]
  },
  {
   "cell_type": "code",
   "execution_count": null,
   "id": "a5467073",
   "metadata": {},
   "outputs": [],
   "source": [
    "plot_gaussian_distributions(\n",
    "    distances=apply_log_to_distances(distances_kcpa_linear_2), \n",
    "    techniques=list(techniques), \n",
    "    metric=METRIC\n",
    ")"
   ]
  },
  {
   "cell_type": "markdown",
   "id": "05892c1d",
   "metadata": {},
   "source": [
    "### No Attack vs. RandLabels (Difference)"
   ]
  },
  {
   "cell_type": "code",
   "execution_count": null,
   "id": "05892c1d",
   "metadata": {},
   "outputs": [],
   "source": [
    "plot_gaussian_distributions(\n",
    "    distances=difference_kpca_linear_NoAttacked_RandLabels, \n",
    "    techniques=list(techniques), \n",
    "    metric=METRIC\n",
    ")"
   ]
  },
  {
   "cell_type": "markdown",
   "id": "7204d657",
   "metadata": {},
   "source": [
    "## kPCA (poly)"
   ]
  },
  {
   "cell_type": "markdown",
   "id": "7204d657",
   "metadata": {},
   "source": [
    "### No Attack"
   ]
  },
  {
   "cell_type": "code",
   "execution_count": null,
   "id": "66e062af",
   "metadata": {},
   "outputs": [],
   "source": [
    "plot_gaussian_distributions(\n",
    "    distances=apply_log_to_distances(distances_kcpa_poly_1), \n",
    "    techniques=list(techniques), \n",
    "    metric=METRIC\n",
    ")"
   ]
  },
  {
   "cell_type": "markdown",
   "id": "b24b68fd",
   "metadata": {},
   "source": [
    "### RandLabels Attack"
   ]
  },
  {
   "cell_type": "code",
   "execution_count": null,
   "id": "b24b68fd",
   "metadata": {},
   "outputs": [],
   "source": [
    "plot_gaussian_distributions(\n",
    "    distances=apply_log_to_distances(distances_kcpa_poly_2), \n",
    "    techniques=list(techniques), \n",
    "    metric=METRIC\n",
    ")"
   ]
  },
  {
   "cell_type": "markdown",
   "id": "3391d5dc",
   "metadata": {},
   "source": [
    "### No Attack vs. RandLabels (Difference)"
   ]
  },
  {
   "cell_type": "code",
   "execution_count": null,
   "id": "3391d5dc",
   "metadata": {},
   "outputs": [],
   "source": [
    "plot_gaussian_distributions(\n",
    "    distances=difference_kpca_poly_NoAttacked_RandLabels, \n",
    "    techniques=list(techniques), \n",
    "    metric=METRIC\n",
    ")"
   ]
  },
  {
   "cell_type": "markdown",
   "id": "bd17a72d",
   "metadata": {},
   "source": [
    "## kPCA (cosine)"
   ]
  },
  {
   "cell_type": "markdown",
   "id": "bd17a72d",
   "metadata": {},
   "source": [
    "### No Attack"
   ]
  },
  {
   "cell_type": "code",
   "execution_count": null,
   "id": "067c4332",
   "metadata": {},
   "outputs": [],
   "source": [
    "plot_gaussian_distributions(\n",
    "    distances=apply_log_to_distances(distances_kcpa_cosine_1), \n",
    "    techniques=list(techniques), \n",
    "    metric=METRIC\n",
    ")"
   ]
  },
  {
   "cell_type": "markdown",
   "id": "c00a3121",
   "metadata": {},
   "source": [
    "### RandLabels Attack"
   ]
  },
  {
   "cell_type": "code",
   "execution_count": null,
   "id": "c00a3121",
   "metadata": {},
   "outputs": [],
   "source": [
    "plot_gaussian_distributions(\n",
    "    distances=apply_log_to_distances(distances_kcpa_cosine_2), \n",
    "    techniques=list(techniques), \n",
    "    metric=METRIC\n",
    ")"
   ]
  },
  {
   "cell_type": "markdown",
   "id": "1b3ff651",
   "metadata": {},
   "source": [
    "### No Attack vs. RandLabels (Difference)"
   ]
  },
  {
   "cell_type": "code",
   "execution_count": null,
   "id": "1b3ff651",
   "metadata": {},
   "outputs": [],
   "source": [
    "plot_gaussian_distributions(\n",
    "    distances=difference_kpca_cosine_NoAttacked_RandLabels, \n",
    "    techniques=list(techniques), \n",
    "    metric=METRIC\n",
    ")"
   ]
  },
  {
   "cell_type": "markdown",
   "id": "77872d42",
   "metadata": {},
   "source": [
    "## tSNE"
   ]
  },
  {
   "cell_type": "markdown",
   "id": "77872d42",
   "metadata": {},
   "source": [
    "### No Attack"
   ]
  },
  {
   "cell_type": "code",
   "execution_count": null,
   "id": "7f16f6b5",
   "metadata": {},
   "outputs": [],
   "source": [
    "plot_gaussian_distributions(\n",
    "    distances=apply_log_to_distances(distances_tsne_1), \n",
    "    techniques=list(techniques), \n",
    "    metric=METRIC\n",
    ")"
   ]
  },
  {
   "cell_type": "markdown",
   "id": "f466f6fe",
   "metadata": {},
   "source": [
    "### RandLabels Attack"
   ]
  },
  {
   "cell_type": "code",
   "execution_count": null,
   "id": "f466f6fe",
   "metadata": {},
   "outputs": [],
   "source": [
    "plot_gaussian_distributions(\n",
    "    distances=apply_log_to_distances(distances_tsne_2), \n",
    "    techniques=list(techniques), \n",
    "    metric=METRIC\n",
    ")"
   ]
  },
  {
   "cell_type": "markdown",
   "id": "c84f38e6",
   "metadata": {},
   "source": [
    "### No Attack vs. RandLabels (Difference)"
   ]
  },
  {
   "cell_type": "code",
   "execution_count": null,
   "id": "c84f38e6",
   "metadata": {},
   "outputs": [],
   "source": [
    "plot_gaussian_distributions(\n",
    "    distances=difference_tsne_NoAttacked_RandLabels, \n",
    "    techniques=list(techniques), \n",
    "    metric=METRIC\n",
    ")"
   ]
  }
 ],
 "metadata": {
  "kernelspec": {
   "display_name": "Python 3 (ipykernel)",
   "language": "python",
   "name": "python3"
  },
  "language_info": {
   "codemirror_mode": {
    "name": "ipython",
    "version": 3
   },
   "file_extension": ".py",
   "mimetype": "text/x-python",
   "name": "python",
   "nbconvert_exporter": "python",
   "pygments_lexer": "ipython3",
   "version": "3.8.10"
  }
 },
 "nbformat": 4,
 "nbformat_minor": 5
}
