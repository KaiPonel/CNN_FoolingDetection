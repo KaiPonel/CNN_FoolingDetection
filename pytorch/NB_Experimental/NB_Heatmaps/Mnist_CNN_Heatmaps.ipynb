{
 "cells": [
  {
   "cell_type": "code",
   "execution_count": 1,
   "id": "f3ae32ed",
   "metadata": {},
   "outputs": [
    {
     "name": "stderr",
     "output_type": "stream",
     "text": [
      "2023-10-30 15:16:33.017250: I tensorflow/core/platform/cpu_feature_guard.cc:193] This TensorFlow binary is optimized with oneAPI Deep Neural Network Library (oneDNN) to use the following CPU instructions in performance-critical operations:  AVX2 AVX512F FMA\n",
      "To enable them in other operations, rebuild TensorFlow with the appropriate compiler flags.\n",
      "2023-10-30 15:16:38.975388: W tensorflow/compiler/xla/stream_executor/platform/default/dso_loader.cc:64] Could not load dynamic library 'libnvinfer.so.7'; dlerror: libnvinfer.so.7: cannot open shared object file: No such file or directory; LD_LIBRARY_PATH: /scratch/ponel/python/lib/python3.8/site-packages/cv2/../../lib64:/usr/local/cuda-12.0/lib64\n",
      "2023-10-30 15:16:38.975703: W tensorflow/compiler/xla/stream_executor/platform/default/dso_loader.cc:64] Could not load dynamic library 'libnvinfer_plugin.so.7'; dlerror: libnvinfer_plugin.so.7: cannot open shared object file: No such file or directory; LD_LIBRARY_PATH: /scratch/ponel/python/lib/python3.8/site-packages/cv2/../../lib64:/usr/local/cuda-12.0/lib64\n",
      "2023-10-30 15:16:38.975739: W tensorflow/compiler/tf2tensorrt/utils/py_utils.cc:38] TF-TRT Warning: Cannot dlopen some TensorRT libraries. If you would like to use Nvidia GPU with TensorRT, please make sure the missing libraries mentioned above are installed properly.\n"
     ]
    }
   ],
   "source": [
    "import sys\n",
    "sys.path.append('/project/FoolingDetection/pytorch')\n",
    "\n",
    "from lib.VisualizationProvider import (plot_2d_distributions, \n",
    "                                       plot_scatter, \n",
    "                                       plot_gaussian_distributions,\n",
    "                                       plot_heatmap,\n",
    "                                       plot_comparison_heatmaps\n",
    "                                      )\n",
    "\n",
    "from lib.FeatureProvider import (load_all_grids, \n",
    "                                 load_all_grids_randparams,\n",
    "                                 reduce_dimensionality_umap, \n",
    "                                 reduce_dimensionality_kpca, \n",
    "                                 reduce_dimensionality_tsne\n",
    "                                )\n",
    "\n",
    "from lib.StaticMetricProvider import (test_all_introspection_technique_combinations, \n",
    "                                      calc_distributions, \n",
    "                                      get_values_from_distance_matrix, \n",
    "                                      difference_distances, \n",
    "                                      apply_log_to_distances\n",
    "                                     )\n",
    "from umap import UMAP\n",
    "from sklearn.manifold import TSNE\n",
    "from sklearn.decomposition import KernelPCA"
   ]
  },
  {
   "cell_type": "markdown",
   "id": "a5a1a5d1",
   "metadata": {},
   "source": [
    "# Base Code"
   ]
  },
  {
   "cell_type": "code",
   "execution_count": 2,
   "id": "a17f8ae2",
   "metadata": {},
   "outputs": [],
   "source": [
    "MODEL_TYPE = \"cnn\"\n",
    "DATASET = \"mnist\"\n",
    "ATTACK1 = \"correct\"\n",
    "ATTACK2 = \"RandLabels\"\n",
    "ATTACK3 = \"RandParams/Cascading/20_Conv2d\"\n",
    "MAX_IMAGES = 300\n",
    "NUMBER_COMPONENTS = 2\n",
    "RANDOM_STATE = 42\n",
    "BASE_DIR = \"/project/FoolingDetection/pytorch/grids2\""
   ]
  },
  {
   "cell_type": "code",
   "execution_count": 3,
   "id": "1be1c19a",
   "metadata": {
    "scrolled": true
   },
   "outputs": [
    {
     "name": "stdout",
     "output_type": "stream",
     "text": [
      "Loading grids from disk...\n",
      "Loading image 50 out of 300 (16.67%)\n",
      "Loading image 100 out of 300 (33.33%)\n",
      "Loading image 150 out of 300 (50.00%)\n",
      "Loading image 200 out of 300 (66.67%)\n",
      "Loading grids from disk...\n",
      "Loading image 50 out of 300 (16.67%)\n",
      "Loading image 100 out of 300 (33.33%)\n",
      "Loading image 150 out of 300 (50.00%)\n",
      "Loading image 200 out of 300 (66.67%)\n",
      "Loading grids from disk...\n",
      "Loading image 50 out of 300 (16.67%)\n",
      "Loading image 100 out of 300 (33.33%)\n",
      "Loading image 150 out of 300 (50.00%)\n",
      "Loading image 200 out of 300 (66.67%)\n",
      "Loading grids from disk...\n",
      "Loading image 50 out of 300 (16.67%)\n",
      "Loading image 100 out of 300 (33.33%)\n",
      "Loading image 150 out of 300 (50.00%)\n",
      "Loading image 200 out of 300 (66.67%)\n",
      "Loading grids from disk...\n",
      "Loading image 50 out of 300 (16.67%)\n",
      "Loading image 100 out of 300 (33.33%)\n",
      "Loading image 150 out of 300 (50.00%)\n",
      "Loading image 200 out of 300 (66.67%)\n",
      "Loading grids from disk...\n",
      "Loading image 50 out of 300 (16.67%)\n",
      "Loading image 100 out of 300 (33.33%)\n",
      "Loading image 150 out of 300 (50.00%)\n",
      "Loading image 200 out of 300 (66.67%)\n",
      "Loading grids from disk...\n",
      "Loading image 50 out of 300 (16.67%)\n",
      "Loading image 100 out of 300 (33.33%)\n",
      "Loading image 150 out of 300 (50.00%)\n",
      "Loading image 200 out of 300 (66.67%)\n",
      "Loading grids from disk...\n",
      "Loading image 50 out of 300 (16.67%)\n",
      "Loading image 100 out of 300 (33.33%)\n",
      "Loading image 150 out of 300 (50.00%)\n",
      "Loading image 200 out of 300 (66.67%)\n",
      "Loading grids from disk...\n",
      "Loading image 50 out of 300 (16.67%)\n",
      "Loading image 100 out of 300 (33.33%)\n",
      "Loading image 150 out of 300 (50.00%)\n",
      "Loading image 200 out of 300 (66.67%)\n",
      "Loading grids from disk...\n",
      "Loading image 50 out of 300 (16.67%)\n",
      "Loading image 100 out of 300 (33.33%)\n",
      "Loading image 150 out of 300 (50.00%)\n",
      "Loading image 200 out of 300 (66.67%)\n",
      "Loading grids from disk...\n",
      "Loading image 50 out of 300 (16.67%)\n",
      "Loading image 100 out of 300 (33.33%)\n",
      "Loading image 150 out of 300 (50.00%)\n",
      "Loading image 200 out of 300 (66.67%)\n",
      "Loading grids from disk...\n",
      "Loading image 50 out of 300 (16.67%)\n",
      "Loading image 100 out of 300 (33.33%)\n",
      "Loading image 150 out of 300 (50.00%)\n",
      "Loading image 200 out of 300 (66.67%)\n",
      "Loading grids from disk...\n",
      "Loading image 50 out of 300 (16.67%)\n",
      "Loading image 100 out of 300 (33.33%)\n",
      "Loading image 150 out of 300 (50.00%)\n",
      "Loading image 200 out of 300 (66.67%)\n",
      "Loading grids from disk...\n",
      "Loading image 50 out of 300 (16.67%)\n",
      "Loading image 100 out of 300 (33.33%)\n",
      "Loading image 150 out of 300 (50.00%)\n",
      "Loading image 200 out of 300 (66.67%)\n",
      "Loading grids from disk...\n",
      "Loading image 50 out of 300 (16.67%)\n",
      "Loading image 100 out of 300 (33.33%)\n",
      "Loading image 150 out of 300 (50.00%)\n",
      "Loading image 200 out of 300 (66.67%)\n",
      "Loading grids from disk...\n",
      "Loading image 50 out of 300 (16.67%)\n",
      "Loading image 100 out of 300 (33.33%)\n",
      "Loading image 150 out of 300 (50.00%)\n",
      "Loading image 200 out of 300 (66.67%)\n"
     ]
    }
   ],
   "source": [
    "all_grids_1 = load_all_grids(\n",
    "    base_dir=BASE_DIR,\n",
    "    model_type=MODEL_TYPE, \n",
    "    dataset=DATASET, \n",
    "    attack=ATTACK1, \n",
    "    max_images=MAX_IMAGES\n",
    ")\n",
    "all_grids_2 = load_all_grids(\n",
    "    base_dir=BASE_DIR,\n",
    "    model_type=MODEL_TYPE, \n",
    "    dataset=DATASET, \n",
    "    attack=ATTACK2, \n",
    "    max_images=MAX_IMAGES\n",
    ")\n",
    "\n",
    "distances_1, techniques, distance_functions = test_all_introspection_technique_combinations(\n",
    "    grids=all_grids_1, \n",
    "    print_results=False, \n",
    "    average_results=True,\n",
    "    use_ssim=False\n",
    ")\n",
    "distances_2, techniques, distance_functions = test_all_introspection_technique_combinations(\n",
    "    grids=all_grids_2, \n",
    "    print_results=False, \n",
    "    average_results=True,\n",
    "    use_ssim=False\n",
    ")\n",
    "\n",
    "difference_NoAttacked_RandLabels = difference_distances(\n",
    "    reference=distances_1, \n",
    "    delta=distances_2, \n",
    "    fold_change_and_log_scale=True\n",
    ")\n"
   ]
  },
  {
   "cell_type": "code",
   "execution_count": 4,
   "id": "d44d42f3",
   "metadata": {},
   "outputs": [
    {
     "name": "stdout",
     "output_type": "stream",
     "text": [
      "Reducing dimensionality for technique shapeley_sampling...\n"
     ]
    },
    {
     "name": "stderr",
     "output_type": "stream",
     "text": [
      "/scratch/ponel/python/lib/python3.8/site-packages/umap/umap_.py:1943: UserWarning: n_jobs value -1 overridden to 1 by setting random_state. Use no seed for parallelism.\n",
      "  warn(f\"n_jobs value {self.n_jobs} overridden to 1 by setting random_state. Use no seed for parallelism.\")\n"
     ]
    },
    {
     "name": "stdout",
     "output_type": "stream",
     "text": [
      "Reducing dimensionality for technique lime...\n"
     ]
    },
    {
     "name": "stderr",
     "output_type": "stream",
     "text": [
      "/scratch/ponel/python/lib/python3.8/site-packages/umap/umap_.py:1943: UserWarning: n_jobs value -1 overridden to 1 by setting random_state. Use no seed for parallelism.\n",
      "  warn(f\"n_jobs value {self.n_jobs} overridden to 1 by setting random_state. Use no seed for parallelism.\")\n"
     ]
    },
    {
     "name": "stdout",
     "output_type": "stream",
     "text": [
      "Reducing dimensionality for technique backprop...\n"
     ]
    },
    {
     "name": "stderr",
     "output_type": "stream",
     "text": [
      "/scratch/ponel/python/lib/python3.8/site-packages/umap/umap_.py:1943: UserWarning: n_jobs value -1 overridden to 1 by setting random_state. Use no seed for parallelism.\n",
      "  warn(f\"n_jobs value {self.n_jobs} overridden to 1 by setting random_state. Use no seed for parallelism.\")\n"
     ]
    },
    {
     "name": "stdout",
     "output_type": "stream",
     "text": [
      "Reducing dimensionality for technique g_t_i...\n"
     ]
    },
    {
     "name": "stderr",
     "output_type": "stream",
     "text": [
      "/scratch/ponel/python/lib/python3.8/site-packages/umap/umap_.py:1943: UserWarning: n_jobs value -1 overridden to 1 by setting random_state. Use no seed for parallelism.\n",
      "  warn(f\"n_jobs value {self.n_jobs} overridden to 1 by setting random_state. Use no seed for parallelism.\")\n"
     ]
    },
    {
     "name": "stdout",
     "output_type": "stream",
     "text": [
      "Reducing dimensionality for technique deep_lift_shap...\n"
     ]
    },
    {
     "name": "stderr",
     "output_type": "stream",
     "text": [
      "/scratch/ponel/python/lib/python3.8/site-packages/umap/umap_.py:1943: UserWarning: n_jobs value -1 overridden to 1 by setting random_state. Use no seed for parallelism.\n",
      "  warn(f\"n_jobs value {self.n_jobs} overridden to 1 by setting random_state. Use no seed for parallelism.\")\n"
     ]
    },
    {
     "name": "stdout",
     "output_type": "stream",
     "text": [
      "Reducing dimensionality for technique ig...\n"
     ]
    },
    {
     "name": "stderr",
     "output_type": "stream",
     "text": [
      "/scratch/ponel/python/lib/python3.8/site-packages/umap/umap_.py:1943: UserWarning: n_jobs value -1 overridden to 1 by setting random_state. Use no seed for parallelism.\n",
      "  warn(f\"n_jobs value {self.n_jobs} overridden to 1 by setting random_state. Use no seed for parallelism.\")\n"
     ]
    },
    {
     "name": "stdout",
     "output_type": "stream",
     "text": [
      "Reducing dimensionality for technique vgrads...\n"
     ]
    },
    {
     "name": "stderr",
     "output_type": "stream",
     "text": [
      "/scratch/ponel/python/lib/python3.8/site-packages/umap/umap_.py:1943: UserWarning: n_jobs value -1 overridden to 1 by setting random_state. Use no seed for parallelism.\n",
      "  warn(f\"n_jobs value {self.n_jobs} overridden to 1 by setting random_state. Use no seed for parallelism.\")\n"
     ]
    },
    {
     "name": "stdout",
     "output_type": "stream",
     "text": [
      "Reducing dimensionality for technique dl...\n"
     ]
    },
    {
     "name": "stderr",
     "output_type": "stream",
     "text": [
      "/scratch/ponel/python/lib/python3.8/site-packages/umap/umap_.py:1943: UserWarning: n_jobs value -1 overridden to 1 by setting random_state. Use no seed for parallelism.\n",
      "  warn(f\"n_jobs value {self.n_jobs} overridden to 1 by setting random_state. Use no seed for parallelism.\")\n"
     ]
    },
    {
     "name": "stdout",
     "output_type": "stream",
     "text": [
      "Reducing dimensionality for technique g_t_i...\n"
     ]
    },
    {
     "name": "stderr",
     "output_type": "stream",
     "text": [
      "/scratch/ponel/python/lib/python3.8/site-packages/umap/umap_.py:1943: UserWarning: n_jobs value -1 overridden to 1 by setting random_state. Use no seed for parallelism.\n",
      "  warn(f\"n_jobs value {self.n_jobs} overridden to 1 by setting random_state. Use no seed for parallelism.\")\n"
     ]
    },
    {
     "name": "stdout",
     "output_type": "stream",
     "text": [
      "Reducing dimensionality for technique lime...\n"
     ]
    },
    {
     "name": "stderr",
     "output_type": "stream",
     "text": [
      "/scratch/ponel/python/lib/python3.8/site-packages/umap/umap_.py:1943: UserWarning: n_jobs value -1 overridden to 1 by setting random_state. Use no seed for parallelism.\n",
      "  warn(f\"n_jobs value {self.n_jobs} overridden to 1 by setting random_state. Use no seed for parallelism.\")\n"
     ]
    },
    {
     "name": "stdout",
     "output_type": "stream",
     "text": [
      "Reducing dimensionality for technique backprop...\n"
     ]
    },
    {
     "name": "stderr",
     "output_type": "stream",
     "text": [
      "/scratch/ponel/python/lib/python3.8/site-packages/umap/umap_.py:1943: UserWarning: n_jobs value -1 overridden to 1 by setting random_state. Use no seed for parallelism.\n",
      "  warn(f\"n_jobs value {self.n_jobs} overridden to 1 by setting random_state. Use no seed for parallelism.\")\n"
     ]
    },
    {
     "name": "stdout",
     "output_type": "stream",
     "text": [
      "Reducing dimensionality for technique deep_lift_shap...\n"
     ]
    },
    {
     "name": "stderr",
     "output_type": "stream",
     "text": [
      "/scratch/ponel/python/lib/python3.8/site-packages/umap/umap_.py:1943: UserWarning: n_jobs value -1 overridden to 1 by setting random_state. Use no seed for parallelism.\n",
      "  warn(f\"n_jobs value {self.n_jobs} overridden to 1 by setting random_state. Use no seed for parallelism.\")\n"
     ]
    },
    {
     "name": "stdout",
     "output_type": "stream",
     "text": [
      "Reducing dimensionality for technique shapeley_sampling...\n"
     ]
    },
    {
     "name": "stderr",
     "output_type": "stream",
     "text": [
      "/scratch/ponel/python/lib/python3.8/site-packages/umap/umap_.py:1943: UserWarning: n_jobs value -1 overridden to 1 by setting random_state. Use no seed for parallelism.\n",
      "  warn(f\"n_jobs value {self.n_jobs} overridden to 1 by setting random_state. Use no seed for parallelism.\")\n"
     ]
    },
    {
     "name": "stdout",
     "output_type": "stream",
     "text": [
      "Reducing dimensionality for technique dl...\n"
     ]
    },
    {
     "name": "stderr",
     "output_type": "stream",
     "text": [
      "/scratch/ponel/python/lib/python3.8/site-packages/umap/umap_.py:1943: UserWarning: n_jobs value -1 overridden to 1 by setting random_state. Use no seed for parallelism.\n",
      "  warn(f\"n_jobs value {self.n_jobs} overridden to 1 by setting random_state. Use no seed for parallelism.\")\n"
     ]
    },
    {
     "name": "stdout",
     "output_type": "stream",
     "text": [
      "Reducing dimensionality for technique vgrads...\n"
     ]
    },
    {
     "name": "stderr",
     "output_type": "stream",
     "text": [
      "/scratch/ponel/python/lib/python3.8/site-packages/umap/umap_.py:1943: UserWarning: n_jobs value -1 overridden to 1 by setting random_state. Use no seed for parallelism.\n",
      "  warn(f\"n_jobs value {self.n_jobs} overridden to 1 by setting random_state. Use no seed for parallelism.\")\n"
     ]
    },
    {
     "name": "stdout",
     "output_type": "stream",
     "text": [
      "Reducing dimensionality for technique ig...\n"
     ]
    },
    {
     "name": "stderr",
     "output_type": "stream",
     "text": [
      "/scratch/ponel/python/lib/python3.8/site-packages/umap/umap_.py:1943: UserWarning: n_jobs value -1 overridden to 1 by setting random_state. Use no seed for parallelism.\n",
      "  warn(f\"n_jobs value {self.n_jobs} overridden to 1 by setting random_state. Use no seed for parallelism.\")\n"
     ]
    }
   ],
   "source": [
    "# UMap Reducer Object\n",
    "umap_reducer = UMAP(n_components=NUMBER_COMPONENTS, random_state=RANDOM_STATE)\n",
    "\n",
    "\n",
    "# UMap Transform\n",
    "all_grids_1_umap = reduce_dimensionality_umap(all_grids_1, umap_reducer)\n",
    "all_grids_2_umap = reduce_dimensionality_umap(all_grids_2, umap_reducer)\n",
    "\n",
    "\n",
    "distances_umap_1, techniques, distance_functions = test_all_introspection_technique_combinations(\n",
    "    grids=all_grids_1_umap, \n",
    "    print_results=False, \n",
    "    average_results=True,\n",
    "    use_ssim=False\n",
    ")\n",
    "distances_umap_2, techniques, distance_functions = test_all_introspection_technique_combinations(\n",
    "    grids=all_grids_2_umap, \n",
    "    print_results=False, \n",
    "    average_results=True,\n",
    "    use_ssim=False\n",
    ")\n",
    "\n",
    "difference_umap_NoAttacked_RandLabels = difference_distances(\n",
    "    reference=distances_umap_1, \n",
    "    delta=distances_umap_2, \n",
    "    fold_change_and_log_scale=True\n",
    ")\n"
   ]
  },
  {
   "cell_type": "code",
   "execution_count": null,
   "id": "d0cf4c96",
   "metadata": {},
   "outputs": [
    {
     "name": "stdout",
     "output_type": "stream",
     "text": [
      "Reducing dimensionality for technique shapeley_sampling...\n",
      "Reducing dimensionality for technique lime...\n",
      "Reducing dimensionality for technique backprop...\n",
      "Reducing dimensionality for technique g_t_i...\n",
      "Reducing dimensionality for technique deep_lift_shap...\n",
      "Reducing dimensionality for technique ig...\n",
      "Reducing dimensionality for technique vgrads...\n",
      "Reducing dimensionality for technique dl...\n",
      "Reducing dimensionality for technique g_t_i...\n",
      "Reducing dimensionality for technique lime...\n"
     ]
    }
   ],
   "source": [
    "# TSNE Reducer Object\n",
    "tsne_reducer = TSNE(n_components=NUMBER_COMPONENTS, random_state=RANDOM_STATE)\n",
    "\n",
    "\n",
    "# TSNE Transform\n",
    "all_grids_1_tsne =reduce_dimensionality_tsne(all_grids_1, tsne_reducer)\n",
    "all_grids_2_tsne =reduce_dimensionality_tsne(all_grids_2, tsne_reducer)\n",
    "\n",
    "distances_tsne_1, techniques, distance_functions = test_all_introspection_technique_combinations(\n",
    "    grids=all_grids_1_tsne, \n",
    "    print_results=False, \n",
    "    average_results=True,\n",
    "    use_ssim=False\n",
    ")\n",
    "distances_tsne_2, techniques, distance_functions = test_all_introspection_technique_combinations(\n",
    "    grids=all_grids_2_tsne, \n",
    "    print_results=False, \n",
    "    average_results=True,\n",
    "    use_ssim=False\n",
    ")\n",
    "\n",
    "\n",
    "difference_tsne_NoAttacked_RandLabels = difference_distances(\n",
    "    reference=distances_tsne_1, \n",
    "    delta=distances_tsne_2, \n",
    "    fold_change_and_log_scale=True\n",
    ")\n"
   ]
  },
  {
   "cell_type": "code",
   "execution_count": null,
   "id": "b9869773",
   "metadata": {},
   "outputs": [],
   "source": [
    "# kPCA Transform\n",
    "# kPCA-Linear Reducer Object\n",
    "kpca_linear_reducer = KernelPCA(\n",
    "        n_components=NUMBER_COMPONENTS, \n",
    "        kernel=\"linear\", \n",
    "        gamma=.1, \n",
    "        eigen_solver=\"auto\", \n",
    "        random_state=RANDOM_STATE, \n",
    "        alpha=10)\n",
    "\n",
    "# Linear kernel\n",
    "all_grids_1_kpca_linear = reduce_dimensionality_kpca(all_grids_1, kpca_linear_reducer)\n",
    "all_grids_2_kpca_linear = reduce_dimensionality_kpca(all_grids_2, kpca_linear_reducer)\n",
    "\n",
    "distances_kcpa_linear_1, techniques, distance_functions = test_all_introspection_technique_combinations(\n",
    "    grids=all_grids_1_kpca_linear, \n",
    "    print_results=False, \n",
    "    average_results=True,\n",
    "    use_ssim=False\n",
    ")\n",
    "distances_kcpa_linear_2, techniques, distance_functions = test_all_introspection_technique_combinations(\n",
    "    grids=all_grids_2_kpca_linear, \n",
    "    print_results=False, \n",
    "    average_results=True,\n",
    "    use_ssim=False\n",
    ")\n",
    "\n",
    "difference_kpca_linear_NoAttacked_RandLabels = difference_distances(\n",
    "    reference=distances_kcpa_linear_1, \n",
    "    delta=distances_kcpa_linear_2, \n",
    "    fold_change_and_log_scale=True\n",
    ")\n",
    "\n",
    "\n",
    "# Poly kernel\n",
    "\n",
    "# kPCA-Poly Reducer Object\n",
    "kpca_poly_reducer = KernelPCA(\n",
    "        n_components=NUMBER_COMPONENTS, \n",
    "        kernel=\"poly\", \n",
    "        gamma=.1, \n",
    "        eigen_solver=\"auto\", \n",
    "        random_state=RANDOM_STATE, \n",
    "        alpha=10)\n",
    "\n",
    "all_grids_1_kpca_poly = reduce_dimensionality_kpca(all_grids_1, kpca_poly_reducer)\n",
    "all_grids_2_kpca_poly = reduce_dimensionality_kpca(all_grids_2, kpca_poly_reducer)\n",
    "\n",
    "distances_kcpa_poly_1, techniques, distance_functions = test_all_introspection_technique_combinations(\n",
    "    grids=all_grids_1_kpca_poly, \n",
    "    print_results=False, \n",
    "    average_results=True,\n",
    "    use_ssim=False\n",
    ")\n",
    "distances_kcpa_poly_2, techniques, distance_functions = test_all_introspection_technique_combinations(\n",
    "    grids=all_grids_2_kpca_poly, \n",
    "    print_results=False, \n",
    "    average_results=True,\n",
    "    use_ssim=False\n",
    ")\n",
    "\n",
    "\n",
    "difference_kpca_poly_NoAttacked_RandLabels = difference_distances(\n",
    "    reference=distances_kcpa_poly_1, \n",
    "    delta=distances_kcpa_poly_2, \n",
    "    fold_change_and_log_scale=True\n",
    ")\n",
    "\n",
    "\n",
    "# Cosine kernel\n",
    "# kPCA-Cosine Reducer Object\n",
    "kpca_cosine_reducer = KernelPCA(\n",
    "        n_components=NUMBER_COMPONENTS, \n",
    "        kernel=\"cosine\", \n",
    "        gamma=.1, \n",
    "        eigen_solver=\"auto\", \n",
    "        random_state=RANDOM_STATE, \n",
    "        alpha=10)\n",
    "\n",
    "all_grids_1_kpca_cosine = reduce_dimensionality_kpca(all_grids_1, kpca_cosine_reducer)\n",
    "all_grids_2_kpca_cosine = reduce_dimensionality_kpca(all_grids_2, kpca_cosine_reducer)\n",
    "\n",
    "distances_kcpa_cosine_1, techniques, distance_functions = test_all_introspection_technique_combinations(\n",
    "    grids=all_grids_1_kpca_cosine, \n",
    "    print_results=False, \n",
    "    average_results=True,\n",
    "    use_ssim=False\n",
    ")\n",
    "distances_kcpa_cosine_2, techniques, distance_functions = test_all_introspection_technique_combinations(\n",
    "    grids=all_grids_2_kpca_cosine, \n",
    "    print_results=False, \n",
    "    average_results=True,\n",
    "    use_ssim=False\n",
    ")\n",
    "\n",
    "difference_kpca_cosine_NoAttacked_RandLabels = difference_distances(\n",
    "    reference=distances_kcpa_cosine_1, \n",
    "    delta=distances_kcpa_cosine_2, \n",
    "    fold_change_and_log_scale=True\n",
    ")\n"
   ]
  },
  {
   "cell_type": "markdown",
   "id": "13864466",
   "metadata": {},
   "source": [
    "# High Dim vs. Low Dim Heatmaps (No Attack)\n",
    "This plots the heatmap comparison (on the same log scale). On the left side is the high-dimensional heatmap, on the right side the lower dimensional heatmap. This is used to get a raw grasp about the correlation between high-dim and low-dim representations. "
   ]
  },
  {
   "cell_type": "markdown",
   "id": "3a5f1d28",
   "metadata": {},
   "source": [
    "## No Attack"
   ]
  },
  {
   "cell_type": "markdown",
   "id": "f185c2eb",
   "metadata": {},
   "source": [
    "### High Dim vs. UMap"
   ]
  },
  {
   "cell_type": "code",
   "execution_count": null,
   "id": "a6f6925f",
   "metadata": {},
   "outputs": [],
   "source": [
    "plot_comparison_heatmaps(\n",
    "    distances1=apply_log_to_distances(distances_1), \n",
    "    distances2=apply_log_to_distances(distances_umap_1), \n",
    "    introspection_techniques=techniques, \n",
    "    distance_functions=distance_functions, \n",
    "    use_diverging=True, \n",
    "    title_distances1=\"Unattacked High Dim\",\n",
    "    title_distances2=\"Unattacked UMap\"\n",
    ")"
   ]
  },
  {
   "cell_type": "markdown",
   "id": "1bef1b25",
   "metadata": {},
   "source": [
    "### High Dim vs. kPCA (Linear)"
   ]
  },
  {
   "cell_type": "markdown",
   "id": "4869cacd",
   "metadata": {},
   "source": [
    "### High Dim vs. kPCA (poly)"
   ]
  },
  {
   "cell_type": "code",
   "execution_count": null,
   "id": "307f8fc5",
   "metadata": {},
   "outputs": [],
   "source": [
    "plot_comparison_heatmaps(\n",
    "    distances1=apply_log_to_distances(distances_1), \n",
    "    distances2=apply_log_to_distances(distances_kcpa_poly_1), \n",
    "    introspection_techniques=techniques, \n",
    "    distance_functions=distance_functions, \n",
    "    use_diverging=True, \n",
    "    title_distances1=\"Unattacked High Dim\",\n",
    "    title_distances2=\"Unattacked kPCA (Poly)\"\n",
    ")"
   ]
  },
  {
   "cell_type": "markdown",
   "id": "ac53d36b",
   "metadata": {},
   "source": [
    "### High Dim vs. kPCA (cosine)"
   ]
  },
  {
   "cell_type": "code",
   "execution_count": null,
   "id": "a8109d2b",
   "metadata": {},
   "outputs": [],
   "source": [
    "plot_comparison_heatmaps(\n",
    "    distances1=apply_log_to_distances(distances_1), \n",
    "    distances2=apply_log_to_distances(distances_kcpa_cosine_1), \n",
    "    introspection_techniques=techniques, \n",
    "    distance_functions=distance_functions, \n",
    "    use_diverging=True, \n",
    "    title_distances1=\"Unattacked High Dim\",\n",
    "    title_distances2=\"Unattacked kPCA (Cosine)\"\n",
    ")"
   ]
  },
  {
   "cell_type": "markdown",
   "id": "9045c8c0",
   "metadata": {},
   "source": [
    "### High Dim vs. t-SNE"
   ]
  },
  {
   "cell_type": "code",
   "execution_count": null,
   "id": "e3b04f08",
   "metadata": {},
   "outputs": [],
   "source": [
    "plot_comparison_heatmaps(\n",
    "    distances1=apply_log_to_distances(distances_1), \n",
    "    distances2=apply_log_to_distances(distances_tsne_1), \n",
    "    introspection_techniques=techniques,\n",
    "    distance_functions=distance_functions, \n",
    "    use_diverging=True, \n",
    "    title_distances1=\"Unattacked High Dim\",\n",
    "    title_distances2=\"Unattacked t-SNE\"\n",
    ")"
   ]
  },
  {
   "cell_type": "markdown",
   "id": "067b5f37",
   "metadata": {},
   "source": [
    "## RandLabels"
   ]
  },
  {
   "cell_type": "markdown",
   "id": "c0a1ec6c",
   "metadata": {},
   "source": [
    "### High Dim vs. UMap"
   ]
  },
  {
   "cell_type": "code",
   "execution_count": null,
   "id": "1ecf8756",
   "metadata": {},
   "outputs": [],
   "source": [
    "plot_comparison_heatmaps(\n",
    "    distances1=apply_log_to_distances(distances_2), \n",
    "    distances2=apply_log_to_distances(distances_umap_2), \n",
    "    introspection_techniques=techniques, \n",
    "    distance_functions=distance_functions, \n",
    "    use_diverging=True, \n",
    "    title_distances1=\"RandLabels High Dim\",\n",
    "    title_distances2=\"RandLabels UMap\"\n",
    ")"
   ]
  },
  {
   "cell_type": "markdown",
   "id": "8e95a3ea",
   "metadata": {},
   "source": [
    "### High Dim vs. kPCA (Linear)"
   ]
  },
  {
   "cell_type": "code",
   "execution_count": null,
   "id": "873fcf4e",
   "metadata": {},
   "outputs": [],
   "source": [
    "plot_comparison_heatmaps(\n",
    "    distances1=apply_log_to_distances(distances_2), \n",
    "    distances2=apply_log_to_distances(distances_kcpa_linear_2), \n",
    "    introspection_techniques=techniques, \n",
    "    distance_functions=distance_functions, \n",
    "    use_diverging=True, \n",
    "    title_distances1=\"RandLabels High Dim\",\n",
    "    title_distances2=\"RandLabels kPCA (Linear)\"\n",
    ")"
   ]
  },
  {
   "cell_type": "markdown",
   "id": "a4ba3af2",
   "metadata": {},
   "source": [
    "### High Dim vs. kPCA (poly)"
   ]
  },
  {
   "cell_type": "code",
   "execution_count": null,
   "id": "ddf87a9c",
   "metadata": {},
   "outputs": [],
   "source": [
    "plot_comparison_heatmaps(\n",
    "    distances1=apply_log_to_distances(distances_2), \n",
    "    distances2=apply_log_to_distances(distances_kcpa_poly_2), \n",
    "    introspection_techniques=techniques, \n",
    "    distance_functions=distance_functions, \n",
    "    use_diverging=True, \n",
    "    title_distances1=\"RandLabels High Dim\",\n",
    "    title_distances2=\"RandLabels kPCA (Poly)\"\n",
    ")"
   ]
  },
  {
   "cell_type": "markdown",
   "id": "50cd2ec3",
   "metadata": {},
   "source": [
    "### High Dim vs. kPCA (cosine)"
   ]
  },
  {
   "cell_type": "code",
   "execution_count": null,
   "id": "d5fe5f77",
   "metadata": {},
   "outputs": [],
   "source": [
    "plot_comparison_heatmaps(\n",
    "    distances1=apply_log_to_distances(distances_2), \n",
    "    distances2=apply_log_to_distances(distances_kcpa_cosine_2), \n",
    "    introspection_techniques=techniques, \n",
    "    distance_functions=distance_functions, \n",
    "    use_diverging=True, \n",
    "    title_distances1=\"RandLabels High Dim\",\n",
    "    title_distances2=\"RandLabels kPCA (Cosine)\"\n",
    ")"
   ]
  },
  {
   "cell_type": "markdown",
   "id": "b7b40224",
   "metadata": {},
   "source": [
    "### High Dim vs. t-SNE"
   ]
  },
  {
   "cell_type": "code",
   "execution_count": null,
   "id": "dc61a51f",
   "metadata": {},
   "outputs": [],
   "source": [
    "plot_comparison_heatmaps(\n",
    "    distances1=apply_log_to_distances(distances_2), \n",
    "    distances2=apply_log_to_distances(distances_tsne_2), \n",
    "    introspection_techniques=techniques, \n",
    "    distance_functions=distance_functions, \n",
    "    use_diverging=True, \n",
    "    title_distances1=\"RandLabels High Dim\",\n",
    "    title_distances2=\"RandLabels t-SNE\"\n",
    ")"
   ]
  },
  {
   "cell_type": "markdown",
   "id": "164bb7dc",
   "metadata": {},
   "source": [
    "## RandParams"
   ]
  },
  {
   "cell_type": "markdown",
   "id": "6b2549b8",
   "metadata": {},
   "source": [
    "### High Dim vs. UMap"
   ]
  },
  {
   "cell_type": "code",
   "execution_count": null,
   "id": "5210f7a6",
   "metadata": {},
   "outputs": [],
   "source": [
    "plot_comparison_heatmaps(\n",
    "    distances1=apply_log_to_distances(distances_3), \n",
    "    distances2=apply_log_to_distances(distances_umap_3), \n",
    "    introspection_techniques=techniques, \n",
    "    distance_functions=distance_functions, \n",
    "    use_diverging=True, \n",
    "    title_distances1=\"RandParams High Dim\",\n",
    "    title_distances2=\"RandParams UMap\"\n",
    ")"
   ]
  },
  {
   "cell_type": "markdown",
   "id": "58f8bd95",
   "metadata": {},
   "source": [
    "### High Dim vs. kPCA (Linear)"
   ]
  },
  {
   "cell_type": "code",
   "execution_count": null,
   "id": "4505f754",
   "metadata": {},
   "outputs": [],
   "source": [
    "plot_comparison_heatmaps(\n",
    "    distances1=apply_log_to_distances(distances_3), \n",
    "    distances2=apply_log_to_distances(distances_kcpa_linear_3), \n",
    "    introspection_techniques=techniques, \n",
    "    distance_functions=distance_functions, \n",
    "    use_diverging=True, \n",
    "    title_distances1=\"RandParams High Dim\",\n",
    "    title_distances2=\"RandParams kPCA (Linear)\"\n",
    ")"
   ]
  },
  {
   "cell_type": "markdown",
   "id": "2b358aad",
   "metadata": {},
   "source": [
    "### High Dim vs. kPCA (poly)"
   ]
  },
  {
   "cell_type": "code",
   "execution_count": null,
   "id": "82993093",
   "metadata": {},
   "outputs": [],
   "source": [
    "plot_comparison_heatmaps(\n",
    "    distances1=apply_log_to_distances(distances_3), \n",
    "    distances2=apply_log_to_distances(distances_kcpa_poly_3), \n",
    "    introspection_techniques=techniques, \n",
    "    distance_functions=distance_functions, \n",
    "    use_diverging=True, \n",
    "    title_distances1=\"RandParams High Dim\",\n",
    "    title_distances2=\"RandParams kPCA (Poly)\"\n",
    ")"
   ]
  },
  {
   "cell_type": "markdown",
   "id": "75307b9e",
   "metadata": {},
   "source": [
    "### High Dim vs. kPCA (cosine)"
   ]
  },
  {
   "cell_type": "code",
   "execution_count": null,
   "id": "0fb96439",
   "metadata": {},
   "outputs": [],
   "source": [
    "plot_comparison_heatmaps(\n",
    "    distances1=apply_log_to_distances(distances_3), \n",
    "    distances2=apply_log_to_distances(distances_kcpa_cosine_3), \n",
    "    introspection_techniques=techniques, \n",
    "    distance_functions=distance_functions, \n",
    "    use_diverging=True, \n",
    "    title_distances1=\"RandParams High Dim\",\n",
    "    title_distances2=\"RandParams kPCA (Cosine)\"\n",
    ")"
   ]
  },
  {
   "cell_type": "markdown",
   "id": "d60e9290",
   "metadata": {},
   "source": [
    "### High Dim vs. t-SNE"
   ]
  },
  {
   "cell_type": "code",
   "execution_count": null,
   "id": "c9355ef3",
   "metadata": {},
   "outputs": [],
   "source": [
    "plot_comparison_heatmaps(\n",
    "    distances1=apply_log_to_distances(distances_3), \n",
    "    distances2=apply_log_to_distances(distances_tsne_3), \n",
    "    introspection_techniques=techniques, \n",
    "    distance_functions=distance_functions, \n",
    "    use_diverging=True, \n",
    "    title_distances1=\"RandParams High Dim\",\n",
    "    title_distances2=\"RandParams t-SNE\"\n",
    ")"
   ]
  },
  {
   "cell_type": "markdown",
   "id": "6904b0ac",
   "metadata": {},
   "source": [
    "# Non-Attacked vs. Attacked\n",
    "This plots heatmaps from the same domain (high dim, UMap, kPCA, tSNE) for an attacked and non-attacked version. "
   ]
  },
  {
   "cell_type": "markdown",
   "id": "fd5bcb3e",
   "metadata": {},
   "source": [
    "## No-Attack vs. RandLabels"
   ]
  },
  {
   "cell_type": "markdown",
   "id": "acc876fa",
   "metadata": {},
   "source": [
    "### High Dimensionality"
   ]
  },
  {
   "cell_type": "code",
   "execution_count": null,
   "id": "6cd2324b",
   "metadata": {},
   "outputs": [],
   "source": [
    "plot_comparison_heatmaps(\n",
    "    distances1=apply_log_to_distances(distances_1), \n",
    "    distances2=apply_log_to_distances(distances_2), \n",
    "    introspection_techniques=techniques, \n",
    "    distance_functions=distance_functions, \n",
    "    use_diverging=True, \n",
    "    title_distances1=\"Unattacked High Dim\",\n",
    "    title_distances2=\"RandLabels High Dim\"\n",
    ")"
   ]
  },
  {
   "cell_type": "markdown",
   "id": "54fde2e2",
   "metadata": {},
   "source": [
    "### UMap"
   ]
  },
  {
   "cell_type": "code",
   "execution_count": null,
   "id": "878d31ae",
   "metadata": {},
   "outputs": [],
   "source": [
    "plot_comparison_heatmaps(\n",
    "    distances1=apply_log_to_distances(distances_umap_1), \n",
    "    distances2=apply_log_to_distances(distances_umap_2), \n",
    "    introspection_techniques=techniques, \n",
    "    distance_functions=distance_functions, \n",
    "    use_diverging=True, \n",
    "    title_distances1=\"Unattacked UMap\",\n",
    "    title_distances2=\"RandLabels UMap\"\n",
    ")"
   ]
  },
  {
   "cell_type": "markdown",
   "id": "5dcb8d2b",
   "metadata": {},
   "source": [
    "### kPCA (Linear)"
   ]
  },
  {
   "cell_type": "code",
   "execution_count": null,
   "id": "5cb8a3f1",
   "metadata": {},
   "outputs": [],
   "source": [
    "plot_comparison_heatmaps(\n",
    "    distances1=apply_log_to_distances(distances_kcpa_linear_1), \n",
    "    distances2=apply_log_to_distances(distances_kcpa_linear_2), \n",
    "    introspection_techniques=techniques, \n",
    "    distance_functions=distance_functions, \n",
    "    use_diverging=True, \n",
    "    title_distances1=\"Unattacked kPCA (Linear)\",\n",
    "    title_distances2=\"RandLabels kPCA (Linear)\"\n",
    ")"
   ]
  },
  {
   "cell_type": "markdown",
   "id": "5dab4a87",
   "metadata": {},
   "source": [
    "### kPCA (poly)"
   ]
  },
  {
   "cell_type": "code",
   "execution_count": null,
   "id": "09f34470",
   "metadata": {},
   "outputs": [],
   "source": [
    "plot_comparison_heatmaps(\n",
    "    distances1=apply_log_to_distances(distances_kcpa_poly_1), \n",
    "    distances2=apply_log_to_distances(distances_kcpa_poly_2), \n",
    "    introspection_techniques=techniques, \n",
    "    distance_functions=distance_functions, \n",
    "    use_diverging=True, \n",
    "    title_distances1=\"Unattacked kPCA (Poly)\",\n",
    "    title_distances2=\"RandLabels kPCA (Poly)\"\n",
    ")"
   ]
  },
  {
   "cell_type": "markdown",
   "id": "3e316ffe",
   "metadata": {},
   "source": [
    "### kPCA (Cosine)"
   ]
  },
  {
   "cell_type": "code",
   "execution_count": null,
   "id": "e20cb720",
   "metadata": {},
   "outputs": [],
   "source": [
    "plot_comparison_heatmaps(\n",
    "    distances1=apply_log_to_distances(distances_kcpa_cosine_1), \n",
    "    distances2=apply_log_to_distances(distances_kcpa_cosine_2), \n",
    "    introspection_techniques=techniques, \n",
    "    distance_functions=distance_functions, \n",
    "    use_diverging=True, \n",
    "    title_distances1=\"Unattacked kPCA (Cosine)\",\n",
    "    title_distances2=\"RandLabels kPCA (Cosine)\"\n",
    ")"
   ]
  },
  {
   "cell_type": "markdown",
   "id": "bfcc312c",
   "metadata": {},
   "source": [
    "### t-SNE"
   ]
  },
  {
   "cell_type": "code",
   "execution_count": null,
   "id": "15b25767",
   "metadata": {},
   "outputs": [],
   "source": [
    "plot_comparison_heatmaps(\n",
    "    distances1=apply_log_to_distances(distances_tsne_1), \n",
    "    distances2=apply_log_to_distances(distances_tsne_2), \n",
    "    introspection_techniques=techniques, \n",
    "    distance_functions=distance_functions, \n",
    "    use_diverging=True, \n",
    "    title_distances1=\"Unattacked t-SNE\",\n",
    "    title_distances2=\"RandLabels t-SNE\"\n",
    ")"
   ]
  },
  {
   "cell_type": "markdown",
   "id": "8cbd3666",
   "metadata": {},
   "source": [
    "## No-Attack vs. RandParams"
   ]
  },
  {
   "cell_type": "markdown",
   "id": "03bb3a60",
   "metadata": {},
   "source": [
    "### High Dimensionality"
   ]
  },
  {
   "cell_type": "code",
   "execution_count": null,
   "id": "6c3f0905",
   "metadata": {},
   "outputs": [],
   "source": [
    "plot_comparison_heatmaps(\n",
    "    distances1=apply_log_to_distances(distances_1), \n",
    "    distances2=apply_log_to_distances(distances_3), \n",
    "    introspection_techniques=techniques, \n",
    "    distance_functions=distance_functions, \n",
    "    use_diverging=True, \n",
    "    title_distances1=\"Unattacked High Dim\",\n",
    "    title_distances2=\"RandParams High Dim\"\n",
    ")"
   ]
  },
  {
   "cell_type": "markdown",
   "id": "299852ce",
   "metadata": {},
   "source": [
    "### UMap"
   ]
  },
  {
   "cell_type": "code",
   "execution_count": null,
   "id": "4b68f96f",
   "metadata": {},
   "outputs": [],
   "source": [
    "plot_comparison_heatmaps(\n",
    "    distances1=apply_log_to_distances(distances_umap_1), \n",
    "    distances2=apply_log_to_distances(distances_umap_3), \n",
    "    introspection_techniques=techniques, \n",
    "    distance_functions=distance_functions, \n",
    "    use_diverging=True, \n",
    "    title_distances1=\"Unattacked UMap\",\n",
    "    title_distances2=\"RandParams UMap\"\n",
    ")"
   ]
  },
  {
   "cell_type": "markdown",
   "id": "d19f7298",
   "metadata": {},
   "source": [
    "### kPCA (Linear)"
   ]
  },
  {
   "cell_type": "code",
   "execution_count": null,
   "id": "01a65e05",
   "metadata": {},
   "outputs": [],
   "source": [
    "plot_comparison_heatmaps(\n",
    "    distances1=apply_log_to_distances(distances_kcpa_linear_1), \n",
    "    distances2=apply_log_to_distances(distances_kcpa_linear_3), \n",
    "    introspection_techniques=techniques, \n",
    "    distance_functions=distance_functions, \n",
    "    use_diverging=True, \n",
    "    title_distances1=\"Unattacked kPCA (Linear)\",\n",
    "    title_distances2=\"RandParams kPCA (Linear)\"\n",
    ")"
   ]
  },
  {
   "cell_type": "markdown",
   "id": "6cfb1141",
   "metadata": {},
   "source": [
    "### kPCA (poly)"
   ]
  },
  {
   "cell_type": "code",
   "execution_count": null,
   "id": "665d1fe9",
   "metadata": {},
   "outputs": [],
   "source": [
    "plot_comparison_heatmaps(\n",
    "    distances1=apply_log_to_distances(distances_kcpa_poly_1), \n",
    "    distances2=apply_log_to_distances(distances_kcpa_poly_3), \n",
    "    introspection_techniques=techniques, \n",
    "    distance_functions=distance_functions, \n",
    "    use_diverging=True, \n",
    "    title_distances1=\"Unattacked kPCA (Poly)\",\n",
    "    title_distances2=\"RandParams kPCA (Poly)\"\n",
    ")"
   ]
  },
  {
   "cell_type": "markdown",
   "id": "884f0397",
   "metadata": {},
   "source": [
    "### kPCA (Cosine)"
   ]
  },
  {
   "cell_type": "code",
   "execution_count": null,
   "id": "23c74f77",
   "metadata": {},
   "outputs": [],
   "source": [
    "plot_comparison_heatmaps(\n",
    "    distances1=apply_log_to_distances(distances_kcpa_cosine_1), \n",
    "    distances2=apply_log_to_distances(distances_kcpa_cosine_3), \n",
    "    introspection_techniques=techniques, \n",
    "    distance_functions=distance_functions, \n",
    "    use_diverging=True, \n",
    "    title_distances1=\"Unattacked kPCA (Cosine)\",\n",
    "    title_distances2=\"RandParams kPCA (Cosine)\"\n",
    ")"
   ]
  },
  {
   "cell_type": "markdown",
   "id": "873681eb",
   "metadata": {},
   "source": [
    "### t-SNE"
   ]
  },
  {
   "cell_type": "code",
   "execution_count": null,
   "id": "27632e26",
   "metadata": {},
   "outputs": [],
   "source": [
    "plot_comparison_heatmaps(\n",
    "    distances1=apply_log_to_distances(distances_tsne_1), \n",
    "    distances2=apply_log_to_distances(distances_tsne_3), \n",
    "    introspection_techniques=techniques, \n",
    "    distance_functions=distance_functions, \n",
    "    use_diverging=True, \n",
    "    title_distances1=\"Unattacked t-SNE\",\n",
    "    title_distances2=\"RandParams t-SNE\"\n",
    ")"
   ]
  },
  {
   "cell_type": "code",
   "execution_count": null,
   "id": "a4ab080c",
   "metadata": {},
   "outputs": [],
   "source": []
  }
 ],
 "metadata": {
  "kernelspec": {
   "display_name": "Python 3 (ipykernel)",
   "language": "python",
   "name": "python3"
  },
  "language_info": {
   "codemirror_mode": {
    "name": "ipython",
    "version": 3
   },
   "file_extension": ".py",
   "mimetype": "text/x-python",
   "name": "python",
   "nbconvert_exporter": "python",
   "pygments_lexer": "ipython3",
   "version": "3.8.10"
  }
 },
 "nbformat": 4,
 "nbformat_minor": 5
}
