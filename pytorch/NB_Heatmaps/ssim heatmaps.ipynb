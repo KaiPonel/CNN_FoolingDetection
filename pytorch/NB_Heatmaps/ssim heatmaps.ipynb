{
 "cells": [
  {
   "cell_type": "code",
   "execution_count": 1,
   "id": "bfae2e62",
   "metadata": {},
   "outputs": [
    {
     "name": "stderr",
     "output_type": "stream",
     "text": [
      "2023-11-01 13:44:37.171263: I tensorflow/core/platform/cpu_feature_guard.cc:193] This TensorFlow binary is optimized with oneAPI Deep Neural Network Library (oneDNN) to use the following CPU instructions in performance-critical operations:  AVX2 AVX512F FMA\n",
      "To enable them in other operations, rebuild TensorFlow with the appropriate compiler flags.\n",
      "2023-11-01 13:44:47.361351: W tensorflow/compiler/xla/stream_executor/platform/default/dso_loader.cc:64] Could not load dynamic library 'libnvinfer.so.7'; dlerror: libnvinfer.so.7: cannot open shared object file: No such file or directory; LD_LIBRARY_PATH: /scratch/ponel/python/lib/python3.8/site-packages/cv2/../../lib64:/usr/local/cuda-12.0/lib64\n",
      "2023-11-01 13:44:47.361482: W tensorflow/compiler/xla/stream_executor/platform/default/dso_loader.cc:64] Could not load dynamic library 'libnvinfer_plugin.so.7'; dlerror: libnvinfer_plugin.so.7: cannot open shared object file: No such file or directory; LD_LIBRARY_PATH: /scratch/ponel/python/lib/python3.8/site-packages/cv2/../../lib64:/usr/local/cuda-12.0/lib64\n",
      "2023-11-01 13:44:47.361497: W tensorflow/compiler/tf2tensorrt/utils/py_utils.cc:38] TF-TRT Warning: Cannot dlopen some TensorRT libraries. If you would like to use Nvidia GPU with TensorRT, please make sure the missing libraries mentioned above are installed properly.\n"
     ]
    }
   ],
   "source": [
    "import sys\n",
    "sys.path.append('/project/FoolingDetection/pytorch')\n",
    "\n",
    "import importlib\n",
    "import lib.VisualizationProvider\n",
    "import lib.FeatureProvider\n",
    "import lib.StaticMetricProvider\n",
    "importlib.reload(lib.VisualizationProvider)\n",
    "importlib.reload(lib.FeatureProvider)\n",
    "importlib.reload(lib.StaticMetricProvider)\n",
    "\n",
    "from lib.VisualizationProvider import (plot_2d_distributions, \n",
    "                                       plot_scatter, \n",
    "                                       plot_gaussian_distributions,\n",
    "                                       plot_heatmap,\n",
    "                                       plot_comparison_heatmaps\n",
    "                                      )\n",
    "\n",
    "from lib.FeatureProvider import (load_all_grids, \n",
    "                                 load_all_grids_randparams,\n",
    "                                 reduce_dimensionality_umap, \n",
    "                                 reduce_dimensionality_kpca, \n",
    "                                 reduce_dimensionality_tsne\n",
    "                                )\n",
    "\n",
    "from lib.StaticMetricProvider import (test_all_introspection_technique_combinations, \n",
    "                                      calc_distributions, \n",
    "                                      get_values_from_distance_matrix, \n",
    "                                      difference_distances, \n",
    "                                      apply_log_to_distances\n",
    "                                     )\n",
    "from umap import UMAP\n",
    "from sklearn.manifold import TSNE\n",
    "from sklearn.decomposition import KernelPCA"
   ]
  },
  {
   "cell_type": "markdown",
   "id": "15ceede6",
   "metadata": {},
   "source": [
    "# mnist@MLP"
   ]
  },
  {
   "cell_type": "code",
   "execution_count": 2,
   "id": "6948e812",
   "metadata": {},
   "outputs": [],
   "source": [
    "MODEL_TYPE = \"mlp\"\n",
    "DATASET = \"mnist\"\n",
    "ATTACK1 = \"correct\"\n",
    "ATTACK2 = \"RandLabels\"\n",
    "ATTACK3 = \"RandParams/Cascading/4_Linear\"\n",
    "MAX_IMAGES = 300\n",
    "NUMBER_COMPONENTS = 2\n",
    "RANDOM_STATE = 42"
   ]
  },
  {
   "cell_type": "code",
   "execution_count": null,
   "id": "e2129e3d",
   "metadata": {},
   "outputs": [
    {
     "name": "stdout",
     "output_type": "stream",
     "text": [
      "Loading grids from disk...\n",
      "Loading image 50 out of 300 (16.67%)\n",
      "Loading image 100 out of 300 (33.33%)\n",
      "Loading image 150 out of 300 (50.00%)\n",
      "Loading image 200 out of 300 (66.67%)\n",
      "Loading image 250 out of 300 (83.33%)\n",
      "Loading image 300 out of 300 (100.00%)\n",
      "Loading grids from disk...\n",
      "Loading image 50 out of 300 (16.67%)\n",
      "Loading image 100 out of 300 (33.33%)\n",
      "Loading image 150 out of 300 (50.00%)\n",
      "Loading image 200 out of 300 (66.67%)\n",
      "Loading image 250 out of 300 (83.33%)\n",
      "Loading image 300 out of 300 (100.00%)\n",
      "Loading grids from disk...\n",
      "Loading image 50 out of 300 (16.67%)\n",
      "Loading image 100 out of 300 (33.33%)\n",
      "Loading image 150 out of 300 (50.00%)\n",
      "Loading image 200 out of 300 (66.67%)\n",
      "Loading image 250 out of 300 (83.33%)\n",
      "Loading image 300 out of 300 (100.00%)\n",
      "Loading grids from disk...\n",
      "Loading image 50 out of 300 (16.67%)\n",
      "Loading image 100 out of 300 (33.33%)\n",
      "Loading image 150 out of 300 (50.00%)\n",
      "Loading image 200 out of 300 (66.67%)\n",
      "Loading image 250 out of 300 (83.33%)\n",
      "Loading image 300 out of 300 (100.00%)\n",
      "Loading grids from disk...\n",
      "Loading image 50 out of 300 (16.67%)\n",
      "Loading image 100 out of 300 (33.33%)\n",
      "Loading image 150 out of 300 (50.00%)\n",
      "Loading image 200 out of 300 (66.67%)\n",
      "Loading image 250 out of 300 (83.33%)\n",
      "Loading image 300 out of 300 (100.00%)\n",
      "Loading grids from disk...\n",
      "Loading image 50 out of 300 (16.67%)\n",
      "Loading image 100 out of 300 (33.33%)\n",
      "Loading image 150 out of 300 (50.00%)\n",
      "Loading image 200 out of 300 (66.67%)\n",
      "Loading image 250 out of 300 (83.33%)\n",
      "Loading image 300 out of 300 (100.00%)\n",
      "Loading grids from disk...\n",
      "Loading image 50 out of 300 (16.67%)\n",
      "Loading image 100 out of 300 (33.33%)\n",
      "Loading image 150 out of 300 (50.00%)\n",
      "Loading image 200 out of 300 (66.67%)\n",
      "Loading image 250 out of 300 (83.33%)\n",
      "Loading image 300 out of 300 (100.00%)\n",
      "Loading grids from disk...\n",
      "Loading image 50 out of 300 (16.67%)\n",
      "Loading image 100 out of 300 (33.33%)\n",
      "Loading image 150 out of 300 (50.00%)\n",
      "Loading image 200 out of 300 (66.67%)\n",
      "Loading image 250 out of 300 (83.33%)\n",
      "Loading image 300 out of 300 (100.00%)\n",
      "Loading grids from disk...\n",
      "Loading image 50 out of 300 (16.67%)\n",
      "Loading image 100 out of 300 (33.33%)\n",
      "Loading image 150 out of 300 (50.00%)\n",
      "Loading image 200 out of 300 (66.67%)\n",
      "Loading image 250 out of 300 (83.33%)\n",
      "Loading image 300 out of 300 (100.00%)\n",
      "Loading grids from disk...\n",
      "Loading image 50 out of 300 (16.67%)\n",
      "Loading image 100 out of 300 (33.33%)\n",
      "Loading image 150 out of 300 (50.00%)\n",
      "Loading image 200 out of 300 (66.67%)\n",
      "Loading image 250 out of 300 (83.33%)\n",
      "Loading image 300 out of 300 (100.00%)\n",
      "Loading grids from disk...\n",
      "Loading image 50 out of 300 (16.67%)\n",
      "Loading image 100 out of 300 (33.33%)\n",
      "Loading image 150 out of 300 (50.00%)\n",
      "Loading image 200 out of 300 (66.67%)\n"
     ]
    }
   ],
   "source": [
    "all_grids_1 = load_all_grids(\n",
    "    model_type=MODEL_TYPE, \n",
    "    dataset=DATASET, \n",
    "    attack=ATTACK1, \n",
    "    max_images=MAX_IMAGES\n",
    ")\n",
    "all_grids_2 = load_all_grids(\n",
    "    model_type=MODEL_TYPE, \n",
    "    dataset=DATASET, \n",
    "    attack=ATTACK2, \n",
    "    max_images=MAX_IMAGES\n",
    ")\n",
    "\n",
    "all_grids_3 = load_all_grids(\n",
    "    model_type=MODEL_TYPE, \n",
    "    dataset=DATASET, \n",
    "    attack=ATTACK3, \n",
    "    max_images=MAX_IMAGES\n",
    ")\n",
    "\n",
    "distances_1, techniques, distance_functions = test_all_introspection_technique_combinations(\n",
    "    grids=all_grids_1, \n",
    "    print_results=False, \n",
    "    average_results=True,\n",
    "    use_ssim=True\n",
    ")\n",
    "distances_2, techniques, distance_functions = test_all_introspection_technique_combinations(\n",
    "    grids=all_grids_2, \n",
    "    print_results=False, \n",
    "    average_results=True,\n",
    "    use_ssim=True\n",
    ")\n",
    "distances_3, techniques, distance_functions = test_all_introspection_technique_combinations(\n",
    "    grids=all_grids_3, \n",
    "    print_results=False, \n",
    "    average_results=True,\n",
    "    use_ssim=True\n",
    ")\n",
    "\n",
    "difference_NoAttacked_RandLabels = difference_distances(\n",
    "    reference=distances_1, \n",
    "    delta=distances_2, \n",
    "    fold_change_and_log_scale=True\n",
    ")\n",
    "\n",
    "difference_NoAttacked_RandParams = difference_distances(\n",
    "    reference=distances_1, \n",
    "    delta=distances_3, \n",
    "    fold_change_and_log_scale=True\n",
    ")"
   ]
  },
  {
   "cell_type": "markdown",
   "id": "a5721930",
   "metadata": {},
   "source": [
    "## Heatmaps"
   ]
  },
  {
   "cell_type": "code",
   "execution_count": null,
   "id": "a50fa477",
   "metadata": {},
   "outputs": [],
   "source": [
    "plot_comparison_heatmaps(\n",
    "    distances1=distances_1, \n",
    "    distances2=distances_2, \n",
    "    introspection_techniques=techniques, \n",
    "    distance_functions=[\"ssim\"], \n",
    "    use_diverging=True, \n",
    "    title_distances1=\"Unattacked High Dim\",\n",
    "    title_distances2=\"RandLabels High Dim\"\n",
    ")"
   ]
  },
  {
   "cell_type": "code",
   "execution_count": null,
   "id": "2e4e618c",
   "metadata": {},
   "outputs": [],
   "source": [
    "plot_comparison_heatmaps(\n",
    "    distances1=distances_1, \n",
    "    distances2=distances_3, \n",
    "    introspection_techniques=techniques, \n",
    "    distance_functions=[\"ssim\"], \n",
    "    use_diverging=True, \n",
    "    title_distances1=\"Unattacked High Dim\",\n",
    "    title_distances2=\"RandParams High Dim\"\n",
    ")"
   ]
  },
  {
   "cell_type": "markdown",
   "id": "57ce96dd",
   "metadata": {},
   "source": [
    "# mnist@CNN"
   ]
  },
  {
   "cell_type": "code",
   "execution_count": null,
   "id": "b314e3df",
   "metadata": {},
   "outputs": [],
   "source": [
    "MODEL_TYPE = \"cnn\"\n",
    "DATASET = \"mnist\"\n",
    "ATTACK1 = \"correct\"\n",
    "ATTACK2 = \"RandLabels\"\n",
    "ATTACK3 = \"RandParams/Cascading/20_Conv2d\"\n",
    "MAX_IMAGES = 300\n",
    "NUMBER_COMPONENTS = 2\n",
    "RANDOM_STATE = 42"
   ]
  },
  {
   "cell_type": "code",
   "execution_count": 7,
   "id": "8114da87",
   "metadata": {
    "scrolled": false
   },
   "outputs": [],
   "source": [
    "all_grids_1 = load_all_grids(\n",
    "    model_type=MODEL_TYPE, \n",
    "    dataset=DATASET, \n",
    "    attack=ATTACK1, \n",
    "    max_images=MAX_IMAGES\n",
    ")\n",
    "all_grids_2 = load_all_grids(\n",
    "    model_type=MODEL_TYPE, \n",
    "    dataset=DATASET, \n",
    "    attack=ATTACK2, \n",
    "    max_images=MAX_IMAGES\n",
    ")\n",
    "\n",
    "all_grids_3 = load_all_grids(\n",
    "    model_type=MODEL_TYPE, \n",
    "    dataset=DATASET, \n",
    "    attack=ATTACK3, \n",
    "    max_images=MAX_IMAGES\n",
    ")\n",
    "\n",
    "distances_1, techniques, distance_functions = test_all_introspection_technique_combinations(\n",
    "    grids=all_grids_1, \n",
    "    print_results=False, \n",
    "    average_results=True,\n",
    "    use_ssim=True\n",
    ")\n",
    "distances_2, techniques, distance_functions = test_all_introspection_technique_combinations(\n",
    "    grids=all_grids_2, \n",
    "    print_results=False, \n",
    "    average_results=True,\n",
    "    use_ssim=True\n",
    ")\n",
    "distances_3, techniques, distance_functions = test_all_introspection_technique_combinations(\n",
    "    grids=all_grids_3, \n",
    "    print_results=False, \n",
    "    average_results=True,\n",
    "    use_ssim=True\n",
    ")\n",
    "\n",
    "difference_NoAttacked_RandLabels = difference_distances(\n",
    "    reference=distances_1, \n",
    "    delta=distances_2, \n",
    "    fold_change_and_log_scale=True\n",
    ")\n",
    "\n",
    "difference_NoAttacked_RandParams = difference_distances(\n",
    "    reference=distances_1, \n",
    "    delta=distances_3, \n",
    "    fold_change_and_log_scale=True\n",
    ")"
   ]
  },
  {
   "cell_type": "markdown",
   "id": "e688c91c",
   "metadata": {},
   "source": [
    "## Heatmaps"
   ]
  },
  {
   "cell_type": "code",
   "execution_count": 8,
   "id": "a50fa477",
   "metadata": {},
   "outputs": [
    {
     "name": "stdout",
     "output_type": "stream",
     "text": [
      "----------------------------------------------------------------------------------------------------\n",
      "Distance function: ssim\n"
     ]
    },
    {
     "data": {
      "image/png": "[encoded data removed]",
      "text/plain": [
       "<Figure size 1080x576 with 4 Axes>"
      ]
     },
     "metadata": {
      "needs_background": "light"
     },
     "output_type": "display_data"
    },
    {
     "name": "stdout",
     "output_type": "stream",
     "text": [
      "----------------------------------------------------------------------------------------------------\n"
     ]
    }
   ],
   "source": [
    "plot_comparison_heatmaps(\n",
    "    distances1=distances_1, \n",
    "    distances2=distances_2, \n",
    "    introspection_techniques=techniques, \n",
    "    distance_functions=[\"ssim\"], \n",
    "    use_diverging=True, \n",
    "    title_distances1=\"Unattacked High Dim\",\n",
    "    title_distances2=\"RandLabels High Dim\"\n",
    ")"
   ]
  },
  {
   "cell_type": "code",
   "execution_count": 9,
   "id": "2e4e618c",
   "metadata": {},
   "outputs": [
    {
     "name": "stdout",
     "output_type": "stream",
     "text": [
      "----------------------------------------------------------------------------------------------------\n",
      "Distance function: ssim\n"
     ]
    },
    {
     "data": {
      "image/png": "[encoded data removed]",
      "text/plain": [
       "<Figure size 1080x576 with 4 Axes>"
      ]
     },
     "metadata": {
      "needs_background": "light"
     },
     "output_type": "display_data"
    },
    {
     "name": "stdout",
     "output_type": "stream",
     "text": [
      "----------------------------------------------------------------------------------------------------\n"
     ]
    }
   ],
   "source": [
    "plot_comparison_heatmaps(\n",
    "    distances1=distances_1, \n",
    "    distances2=distances_3, \n",
    "    introspection_techniques=techniques, \n",
    "    distance_functions=[\"ssim\"], \n",
    "    use_diverging=True, \n",
    "    title_distances1=\"Unattacked High Dim\",\n",
    "    title_distances2=\"RandParams High Dim\"\n",
    ")"
   ]
  },
  {
   "cell_type": "markdown",
   "id": "6b9e05a4",
   "metadata": {},
   "source": [
    "# cifar10@MLP"
   ]
  },
  {
   "cell_type": "code",
   "execution_count": 10,
   "id": "5c6ccc97",
   "metadata": {},
   "outputs": [],
   "source": [
    "MODEL_TYPE = \"mlp\"\n",
    "DATASET = \"cifar10\"\n",
    "ATTACK1 = \"correct\"\n",
    "ATTACK2 = \"RandLabels\"\n",
    "ATTACK3 = \"RandParams/Cascading/4_Linear\"\n",
    "MAX_IMAGES = 300\n",
    "NUMBER_COMPONENTS = 2\n",
    "RANDOM_STATE = 42"
   ]
  },
  {
   "cell_type": "code",
   "execution_count": 11,
   "id": "e37a450f",
   "metadata": {},
   "outputs": [
    {
     "name": "stdout",
     "output_type": "stream",
     "text": [
      "Loading grids from disk...\n",
      "Loading image 50 out of 300 (16.67%)\n",
      "Loading image 100 out of 300 (33.33%)\n",
      "Loading image 150 out of 300 (50.00%)\n",
      "Loading image 200 out of 300 (66.67%)\n",
      "Loading image 250 out of 300 (83.33%)\n",
      "Loading image 300 out of 300 (100.00%)\n",
      "Loading grids from disk...\n",
      "Loading image 50 out of 300 (16.67%)\n",
      "Loading image 100 out of 300 (33.33%)\n",
      "Loading image 150 out of 300 (50.00%)\n",
      "Loading image 200 out of 300 (66.67%)\n",
      "Loading image 250 out of 300 (83.33%)\n",
      "Loading image 300 out of 300 (100.00%)\n",
      "Loading grids from disk...\n",
      "Loading image 50 out of 300 (16.67%)\n",
      "Loading image 100 out of 300 (33.33%)\n",
      "Loading image 150 out of 300 (50.00%)\n",
      "Loading image 200 out of 300 (66.67%)\n",
      "Loading image 250 out of 300 (83.33%)\n",
      "Loading image 300 out of 300 (100.00%)\n",
      "Loading grids from disk...\n",
      "Loading image 50 out of 300 (16.67%)\n",
      "Loading image 100 out of 300 (33.33%)\n",
      "Loading image 150 out of 300 (50.00%)\n",
      "Loading image 200 out of 300 (66.67%)\n",
      "Loading image 250 out of 300 (83.33%)\n",
      "Loading image 300 out of 300 (100.00%)\n",
      "Loading grids from disk...\n",
      "Loading image 50 out of 300 (16.67%)\n",
      "Loading image 100 out of 300 (33.33%)\n",
      "Loading image 150 out of 300 (50.00%)\n",
      "Loading image 200 out of 300 (66.67%)\n",
      "Loading image 250 out of 300 (83.33%)\n",
      "Loading image 300 out of 300 (100.00%)\n",
      "Loading grids from disk...\n",
      "Loading image 50 out of 300 (16.67%)\n",
      "Loading image 100 out of 300 (33.33%)\n",
      "Loading image 150 out of 300 (50.00%)\n",
      "Loading image 200 out of 300 (66.67%)\n",
      "Loading image 250 out of 300 (83.33%)\n",
      "Loading image 300 out of 300 (100.00%)\n",
      "Loading grids from disk...\n",
      "Loading image 50 out of 300 (16.67%)\n",
      "Loading image 100 out of 300 (33.33%)\n",
      "Loading image 150 out of 300 (50.00%)\n",
      "Loading image 200 out of 300 (66.67%)\n",
      "Loading image 250 out of 300 (83.33%)\n",
      "Loading image 300 out of 300 (100.00%)\n",
      "Loading grids from disk...\n",
      "Loading image 50 out of 300 (16.67%)\n",
      "Loading image 100 out of 300 (33.33%)\n",
      "Loading image 150 out of 300 (50.00%)\n",
      "Loading image 200 out of 300 (66.67%)\n",
      "Loading image 250 out of 300 (83.33%)\n",
      "Loading image 300 out of 300 (100.00%)\n",
      "Loading grids from disk...\n",
      "Loading image 50 out of 300 (16.67%)\n",
      "Loading image 100 out of 300 (33.33%)\n",
      "Loading image 150 out of 300 (50.00%)\n",
      "Loading image 200 out of 300 (66.67%)\n",
      "Loading image 250 out of 300 (83.33%)\n",
      "Loading image 300 out of 300 (100.00%)\n",
      "Loading grids from disk...\n",
      "Loading image 50 out of 300 (16.67%)\n",
      "Loading image 100 out of 300 (33.33%)\n",
      "Loading image 150 out of 300 (50.00%)\n",
      "Loading image 200 out of 300 (66.67%)\n",
      "Loading image 250 out of 300 (83.33%)\n",
      "Loading image 300 out of 300 (100.00%)\n",
      "Loading grids from disk...\n",
      "Loading image 50 out of 300 (16.67%)\n",
      "Loading image 100 out of 300 (33.33%)\n",
      "Loading image 150 out of 300 (50.00%)\n",
      "Loading image 200 out of 300 (66.67%)\n",
      "Loading image 250 out of 300 (83.33%)\n",
      "Loading image 300 out of 300 (100.00%)\n",
      "Loading grids from disk...\n",
      "Loading image 50 out of 300 (16.67%)\n",
      "Loading image 100 out of 300 (33.33%)\n",
      "Loading image 150 out of 300 (50.00%)\n",
      "Loading image 200 out of 300 (66.67%)\n",
      "Loading image 250 out of 300 (83.33%)\n",
      "Loading image 300 out of 300 (100.00%)\n",
      "Loading grids from disk...\n",
      "Loading image 50 out of 300 (16.67%)\n",
      "Loading image 100 out of 300 (33.33%)\n",
      "Loading image 150 out of 300 (50.00%)\n",
      "Loading image 200 out of 300 (66.67%)\n",
      "Loading image 250 out of 300 (83.33%)\n",
      "Loading image 300 out of 300 (100.00%)\n",
      "Loading grids from disk...\n",
      "Loading image 50 out of 300 (16.67%)\n",
      "Loading image 100 out of 300 (33.33%)\n",
      "Loading image 150 out of 300 (50.00%)\n",
      "Loading image 200 out of 300 (66.67%)\n",
      "Loading image 250 out of 300 (83.33%)\n",
      "Loading image 300 out of 300 (100.00%)\n",
      "Loading grids from disk...\n",
      "Loading image 50 out of 300 (16.67%)\n",
      "Loading image 100 out of 300 (33.33%)\n",
      "Loading image 150 out of 300 (50.00%)\n",
      "Loading image 200 out of 300 (66.67%)\n",
      "Loading image 250 out of 300 (83.33%)\n",
      "Loading image 300 out of 300 (100.00%)\n"
     ]
    }
   ],
   "source": [
    "all_grids_1 = load_all_grids(\n",
    "    model_type=MODEL_TYPE, \n",
    "    dataset=DATASET, \n",
    "    attack=ATTACK1, \n",
    "    max_images=MAX_IMAGES\n",
    ")\n",
    "all_grids_2 = load_all_grids(\n",
    "    model_type=MODEL_TYPE, \n",
    "    dataset=DATASET, \n",
    "    attack=ATTACK2, \n",
    "    max_images=MAX_IMAGES\n",
    ")\n",
    "\n",
    "all_grids_3 = load_all_grids(\n",
    "    model_type=MODEL_TYPE, \n",
    "    dataset=DATASET, \n",
    "    attack=ATTACK3, \n",
    "    max_images=MAX_IMAGES\n",
    ")\n",
    "\n",
    "distances_1, techniques, distance_functions = test_all_introspection_technique_combinations(\n",
    "    grids=all_grids_1, \n",
    "    print_results=False, \n",
    "    average_results=True,\n",
    "    use_ssim=True\n",
    ")\n",
    "distances_2, techniques, distance_functions = test_all_introspection_technique_combinations(\n",
    "    grids=all_grids_2, \n",
    "    print_results=False, \n",
    "    average_results=True,\n",
    "    use_ssim=True\n",
    ")\n",
    "distances_3, techniques, distance_functions = test_all_introspection_technique_combinations(\n",
    "    grids=all_grids_3, \n",
    "    print_results=False, \n",
    "    average_results=True,\n",
    "    use_ssim=True\n",
    ")\n",
    "\n",
    "difference_NoAttacked_RandLabels = difference_distances(\n",
    "    reference=distances_1, \n",
    "    delta=distances_2, \n",
    "    fold_change_and_log_scale=True\n",
    ")\n",
    "\n",
    "difference_NoAttacked_RandParams = difference_distances(\n",
    "    reference=distances_1, \n",
    "    delta=distances_3, \n",
    "    fold_change_and_log_scale=True\n",
    ")"
   ]
  },
  {
   "cell_type": "markdown",
   "id": "a5721930",
   "metadata": {},
   "source": [
    "## Heatmaps"
   ]
  },
  {
   "cell_type": "code",
   "execution_count": 12,
   "id": "a50fa477",
   "metadata": {},
   "outputs": [
    {
     "name": "stdout",
     "output_type": "stream",
     "text": [
      "----------------------------------------------------------------------------------------------------\n",
      "Distance function: ssim\n"
     ]
    },
    {
     "data": {
      "image/png": "[encoded data removed]",
      "text/plain": [
       "<Figure size 1080x576 with 4 Axes>"
      ]
     },
     "metadata": {
      "needs_background": "light"
     },
     "output_type": "display_data"
    },
    {
     "name": "stdout",
     "output_type": "stream",
     "text": [
      "----------------------------------------------------------------------------------------------------\n"
     ]
    }
   ],
   "source": [
    "plot_comparison_heatmaps(\n",
    "    distances1=distances_1, \n",
    "    distances2=distances_2, \n",
    "    introspection_techniques=techniques, \n",
    "    distance_functions=[\"ssim\"], \n",
    "    use_diverging=True, \n",
    "    title_distances1=\"Unattacked High Dim\",\n",
    "    title_distances2=\"RandLabels High Dim\"\n",
    ")"
   ]
  },
  {
   "cell_type": "code",
   "execution_count": 13,
   "id": "2e4e618c",
   "metadata": {},
   "outputs": [
    {
     "name": "stdout",
     "output_type": "stream",
     "text": [
      "----------------------------------------------------------------------------------------------------\n",
      "Distance function: ssim\n"
     ]
    },
    {
     "data": {
      "image/png": "[encoded data removed]",
      "text/plain": [
       "<Figure size 1080x576 with 4 Axes>"
      ]
     },
     "metadata": {
      "needs_background": "light"
     },
     "output_type": "display_data"
    },
    {
     "name": "stdout",
     "output_type": "stream",
     "text": [
      "----------------------------------------------------------------------------------------------------\n"
     ]
    }
   ],
   "source": [
    "plot_comparison_heatmaps(\n",
    "    distances1=distances_1, \n",
    "    distances2=distances_3, \n",
    "    introspection_techniques=techniques, \n",
    "    distance_functions=[\"ssim\"], \n",
    "    use_diverging=True, \n",
    "    title_distances1=\"Unattacked High Dim\",\n",
    "    title_distances2=\"RandParams High Dim\"\n",
    ")"
   ]
  },
  {
   "cell_type": "markdown",
   "id": "d7ca95d3",
   "metadata": {},
   "source": [
    "# cifar10@CNN"
   ]
  },
  {
   "cell_type": "code",
   "execution_count": 14,
   "id": "326e9279",
   "metadata": {},
   "outputs": [],
   "source": [
    "MODEL_TYPE = \"cnn\"\n",
    "DATASET = \"cifar10\"\n",
    "ATTACK1 = \"correct\"\n",
    "ATTACK2 = \"RandLabels\"\n",
    "ATTACK3 = \"RandParams/Cascading/8_Conv2d\"\n",
    "MAX_IMAGES = 300\n",
    "NUMBER_COMPONENTS = 2\n",
    "RANDOM_STATE = 42"
   ]
  },
  {
   "cell_type": "code",
   "execution_count": 15,
   "id": "757a4f79",
   "metadata": {},
   "outputs": [
    {
     "name": "stdout",
     "output_type": "stream",
     "text": [
      "Loading grids from disk...\n",
      "Loading image 50 out of 300 (16.67%)\n",
      "Loading image 100 out of 300 (33.33%)\n",
      "Loading image 150 out of 300 (50.00%)\n",
      "Loading image 200 out of 300 (66.67%)\n",
      "Loading image 250 out of 300 (83.33%)\n",
      "Loading image 300 out of 300 (100.00%)\n",
      "Loading grids from disk...\n",
      "Loading image 50 out of 300 (16.67%)\n",
      "Loading image 100 out of 300 (33.33%)\n",
      "Loading image 150 out of 300 (50.00%)\n",
      "Loading image 200 out of 300 (66.67%)\n",
      "Loading image 250 out of 300 (83.33%)\n",
      "Loading image 300 out of 300 (100.00%)\n",
      "Loading grids from disk...\n",
      "Loading image 50 out of 300 (16.67%)\n",
      "Loading image 100 out of 300 (33.33%)\n",
      "Loading image 150 out of 300 (50.00%)\n",
      "Loading image 200 out of 300 (66.67%)\n",
      "Loading image 250 out of 300 (83.33%)\n",
      "Loading image 300 out of 300 (100.00%)\n",
      "Loading grids from disk...\n",
      "Loading image 50 out of 300 (16.67%)\n",
      "Loading image 100 out of 300 (33.33%)\n",
      "Loading image 150 out of 300 (50.00%)\n",
      "Loading image 200 out of 300 (66.67%)\n",
      "Loading image 250 out of 300 (83.33%)\n",
      "Loading image 300 out of 300 (100.00%)\n",
      "Loading grids from disk...\n",
      "Loading image 50 out of 300 (16.67%)\n",
      "Loading image 100 out of 300 (33.33%)\n",
      "Loading image 150 out of 300 (50.00%)\n",
      "Loading image 200 out of 300 (66.67%)\n",
      "Loading image 250 out of 300 (83.33%)\n",
      "Loading image 300 out of 300 (100.00%)\n",
      "Loading grids from disk...\n",
      "Loading image 50 out of 300 (16.67%)\n",
      "Loading image 100 out of 300 (33.33%)\n",
      "Loading image 150 out of 300 (50.00%)\n",
      "Loading image 200 out of 300 (66.67%)\n",
      "Loading image 250 out of 300 (83.33%)\n",
      "Loading image 300 out of 300 (100.00%)\n",
      "Loading grids from disk...\n",
      "Loading image 50 out of 300 (16.67%)\n",
      "Loading image 100 out of 300 (33.33%)\n",
      "Loading image 150 out of 300 (50.00%)\n",
      "Loading image 200 out of 300 (66.67%)\n",
      "Loading image 250 out of 300 (83.33%)\n",
      "Loading image 300 out of 300 (100.00%)\n",
      "Loading grids from disk...\n",
      "Loading image 50 out of 300 (16.67%)\n",
      "Loading image 100 out of 300 (33.33%)\n",
      "Loading image 150 out of 300 (50.00%)\n",
      "Loading image 200 out of 300 (66.67%)\n",
      "Loading image 250 out of 300 (83.33%)\n",
      "Loading image 300 out of 300 (100.00%)\n",
      "Loading grids from disk...\n",
      "Loading image 50 out of 300 (16.67%)\n",
      "Loading image 100 out of 300 (33.33%)\n",
      "Loading image 150 out of 300 (50.00%)\n",
      "Loading image 200 out of 300 (66.67%)\n",
      "Loading image 250 out of 300 (83.33%)\n",
      "Loading image 300 out of 300 (100.00%)\n",
      "Loading grids from disk...\n",
      "Loading image 50 out of 300 (16.67%)\n",
      "Loading image 100 out of 300 (33.33%)\n",
      "Loading image 150 out of 300 (50.00%)\n",
      "Loading image 200 out of 300 (66.67%)\n",
      "Loading image 250 out of 300 (83.33%)\n",
      "Loading image 300 out of 300 (100.00%)\n",
      "Loading grids from disk...\n",
      "Loading image 50 out of 300 (16.67%)\n",
      "Loading image 100 out of 300 (33.33%)\n",
      "Loading image 150 out of 300 (50.00%)\n",
      "Loading image 200 out of 300 (66.67%)\n",
      "Loading image 250 out of 300 (83.33%)\n",
      "Loading image 300 out of 300 (100.00%)\n",
      "Loading grids from disk...\n",
      "Loading image 50 out of 300 (16.67%)\n",
      "Loading image 100 out of 300 (33.33%)\n",
      "Loading image 150 out of 300 (50.00%)\n",
      "Loading image 200 out of 300 (66.67%)\n",
      "Loading image 250 out of 300 (83.33%)\n",
      "Loading image 300 out of 300 (100.00%)\n",
      "Loading grids from disk...\n",
      "Loading image 50 out of 300 (16.67%)\n",
      "Loading image 100 out of 300 (33.33%)\n",
      "Loading image 150 out of 300 (50.00%)\n",
      "Loading image 200 out of 300 (66.67%)\n",
      "Loading image 250 out of 300 (83.33%)\n",
      "Loading image 300 out of 300 (100.00%)\n",
      "Loading grids from disk...\n",
      "Loading image 50 out of 300 (16.67%)\n",
      "Loading image 100 out of 300 (33.33%)\n",
      "Loading image 150 out of 300 (50.00%)\n",
      "Loading image 200 out of 300 (66.67%)\n",
      "Loading image 250 out of 300 (83.33%)\n",
      "Loading image 300 out of 300 (100.00%)\n",
      "Loading grids from disk...\n",
      "Loading image 50 out of 300 (16.67%)\n",
      "Loading image 100 out of 300 (33.33%)\n",
      "Loading image 150 out of 300 (50.00%)\n",
      "Loading image 200 out of 300 (66.67%)\n",
      "Loading image 250 out of 300 (83.33%)\n",
      "Loading image 300 out of 300 (100.00%)\n",
      "Loading grids from disk...\n",
      "Loading image 50 out of 300 (16.67%)\n",
      "Loading image 100 out of 300 (33.33%)\n",
      "Loading image 150 out of 300 (50.00%)\n",
      "Loading image 200 out of 300 (66.67%)\n",
      "Loading image 250 out of 300 (83.33%)\n",
      "Loading image 300 out of 300 (100.00%)\n",
      "Loading grids from disk...\n",
      "Loading image 50 out of 300 (16.67%)\n",
      "Loading image 100 out of 300 (33.33%)\n",
      "Loading image 150 out of 300 (50.00%)\n",
      "Loading image 200 out of 300 (66.67%)\n",
      "Loading image 250 out of 300 (83.33%)\n",
      "Loading image 300 out of 300 (100.00%)\n",
      "Loading grids from disk...\n",
      "Loading image 50 out of 300 (16.67%)\n",
      "Loading image 100 out of 300 (33.33%)\n",
      "Loading image 150 out of 300 (50.00%)\n",
      "Loading image 200 out of 300 (66.67%)\n",
      "Loading image 250 out of 300 (83.33%)\n",
      "Loading image 300 out of 300 (100.00%)\n"
     ]
    }
   ],
   "source": [
    "all_grids_1 = load_all_grids(\n",
    "    model_type=MODEL_TYPE, \n",
    "    dataset=DATASET, \n",
    "    attack=ATTACK1, \n",
    "    max_images=MAX_IMAGES\n",
    ")\n",
    "all_grids_2 = load_all_grids(\n",
    "    model_type=MODEL_TYPE, \n",
    "    dataset=DATASET, \n",
    "    attack=ATTACK2, \n",
    "    max_images=MAX_IMAGES\n",
    ")\n",
    "\n",
    "all_grids_3 = load_all_grids(\n",
    "    model_type=MODEL_TYPE, \n",
    "    dataset=DATASET, \n",
    "    attack=ATTACK3, \n",
    "    max_images=MAX_IMAGES\n",
    ")\n",
    "\n",
    "distances_1, techniques, distance_functions = test_all_introspection_technique_combinations(\n",
    "    grids=all_grids_1, \n",
    "    print_results=False, \n",
    "    average_results=True,\n",
    "    use_ssim=True\n",
    ")\n",
    "distances_2, techniques, distance_functions = test_all_introspection_technique_combinations(\n",
    "    grids=all_grids_2, \n",
    "    print_results=False, \n",
    "    average_results=True,\n",
    "    use_ssim=True\n",
    ")\n",
    "distances_3, techniques, distance_functions = test_all_introspection_technique_combinations(\n",
    "    grids=all_grids_3, \n",
    "    print_results=False, \n",
    "    average_results=True,\n",
    "    use_ssim=True\n",
    ")\n",
    "\n",
    "difference_NoAttacked_RandLabels = difference_distances(\n",
    "    reference=distances_1, \n",
    "    delta=distances_2, \n",
    "    fold_change_and_log_scale=True\n",
    ")\n",
    "\n",
    "difference_NoAttacked_RandParams = difference_distances(\n",
    "    reference=distances_1, \n",
    "    delta=distances_3, \n",
    "    fold_change_and_log_scale=True\n",
    ")"
   ]
  },
  {
   "cell_type": "markdown",
   "id": "a5721930",
   "metadata": {},
   "source": [
    "## Heatmaps"
   ]
  },
  {
   "cell_type": "code",
   "execution_count": 16,
   "id": "a50fa477",
   "metadata": {},
   "outputs": [
    {
     "name": "stdout",
     "output_type": "stream",
     "text": [
      "----------------------------------------------------------------------------------------------------\n",
      "Distance function: ssim\n"
     ]
    },
    {
     "ename": "ValueError",
     "evalue": "Shape of passed values is (5, 5), indices imply (8, 8)",
     "output_type": "error",
     "traceback": [
      "\u001b[0;31m---------------------------------------------------------------------------\u001b[0m",
      "\u001b[0;31mValueError\u001b[0m                                Traceback (most recent call last)",
      "\u001b[0;32m/tmp/ipykernel_412442/2742139507.py\u001b[0m in \u001b[0;36m<module>\u001b[0;34m\u001b[0m\n\u001b[0;32m----> 1\u001b[0;31m plot_comparison_heatmaps(\n\u001b[0m\u001b[1;32m      2\u001b[0m     \u001b[0mdistances1\u001b[0m\u001b[0;34m=\u001b[0m\u001b[0mdistances_1\u001b[0m\u001b[0;34m,\u001b[0m\u001b[0;34m\u001b[0m\u001b[0;34m\u001b[0m\u001b[0m\n\u001b[1;32m      3\u001b[0m     \u001b[0mdistances2\u001b[0m\u001b[0;34m=\u001b[0m\u001b[0mdistances_2\u001b[0m\u001b[0;34m,\u001b[0m\u001b[0;34m\u001b[0m\u001b[0;34m\u001b[0m\u001b[0m\n\u001b[1;32m      4\u001b[0m     \u001b[0mintrospection_techniques\u001b[0m\u001b[0;34m=\u001b[0m\u001b[0mtechniques\u001b[0m\u001b[0;34m,\u001b[0m\u001b[0;34m\u001b[0m\u001b[0;34m\u001b[0m\u001b[0m\n\u001b[1;32m      5\u001b[0m     \u001b[0mdistance_functions\u001b[0m\u001b[0;34m=\u001b[0m\u001b[0;34m[\u001b[0m\u001b[0;34m\"ssim\"\u001b[0m\u001b[0;34m]\u001b[0m\u001b[0;34m,\u001b[0m\u001b[0;34m\u001b[0m\u001b[0;34m\u001b[0m\u001b[0m\n",
      "\u001b[0;32m/project/FoolingDetection/pytorch/lib/VisualizationProvider.py\u001b[0m in \u001b[0;36mplot_comparison_heatmaps\u001b[0;34m(distances1, distances2, introspection_techniques, distance_functions, use_diverging, title_distances1, title_distances2, distances3, title_distances3, save_name)\u001b[0m\n\u001b[1;32m    142\u001b[0m \u001b[0;34m\u001b[0m\u001b[0m\n\u001b[1;32m    143\u001b[0m         \u001b[0;31m# Create DataFrames from the diff_distances arrays for normal and UMAP reduced inputs\u001b[0m\u001b[0;34m\u001b[0m\u001b[0;34m\u001b[0m\u001b[0;34m\u001b[0m\u001b[0m\n\u001b[0;32m--> 144\u001b[0;31m         \u001b[0mnormal_df\u001b[0m \u001b[0;34m=\u001b[0m \u001b[0mpd\u001b[0m\u001b[0;34m.\u001b[0m\u001b[0mDataFrame\u001b[0m\u001b[0;34m(\u001b[0m\u001b[0mdistances1\u001b[0m\u001b[0;34m,\u001b[0m \u001b[0mcolumns\u001b[0m\u001b[0;34m=\u001b[0m\u001b[0mintrospection_techniques\u001b[0m\u001b[0;34m,\u001b[0m \u001b[0mindex\u001b[0m\u001b[0;34m=\u001b[0m\u001b[0mintrospection_techniques\u001b[0m\u001b[0;34m)\u001b[0m\u001b[0;34m\u001b[0m\u001b[0;34m\u001b[0m\u001b[0m\n\u001b[0m\u001b[1;32m    145\u001b[0m         \u001b[0mumap_df\u001b[0m \u001b[0;34m=\u001b[0m \u001b[0mpd\u001b[0m\u001b[0;34m.\u001b[0m\u001b[0mDataFrame\u001b[0m\u001b[0;34m(\u001b[0m\u001b[0mdistances2\u001b[0m\u001b[0;34m,\u001b[0m \u001b[0mcolumns\u001b[0m\u001b[0;34m=\u001b[0m\u001b[0mintrospection_techniques\u001b[0m\u001b[0;34m,\u001b[0m \u001b[0mindex\u001b[0m\u001b[0;34m=\u001b[0m\u001b[0mintrospection_techniques\u001b[0m\u001b[0;34m)\u001b[0m\u001b[0;34m\u001b[0m\u001b[0;34m\u001b[0m\u001b[0m\n\u001b[1;32m    146\u001b[0m \u001b[0;34m\u001b[0m\u001b[0m\n",
      "\u001b[0;32m/scratch/ponel/python/lib/python3.8/site-packages/pandas/core/frame.py\u001b[0m in \u001b[0;36m__init__\u001b[0;34m(self, data, index, columns, dtype, copy)\u001b[0m\n\u001b[1;32m    756\u001b[0m                 )\n\u001b[1;32m    757\u001b[0m             \u001b[0;32melse\u001b[0m\u001b[0;34m:\u001b[0m\u001b[0;34m\u001b[0m\u001b[0;34m\u001b[0m\u001b[0m\n\u001b[0;32m--> 758\u001b[0;31m                 mgr = ndarray_to_mgr(\n\u001b[0m\u001b[1;32m    759\u001b[0m                     \u001b[0mdata\u001b[0m\u001b[0;34m,\u001b[0m\u001b[0;34m\u001b[0m\u001b[0;34m\u001b[0m\u001b[0m\n\u001b[1;32m    760\u001b[0m                     \u001b[0mindex\u001b[0m\u001b[0;34m,\u001b[0m\u001b[0;34m\u001b[0m\u001b[0;34m\u001b[0m\u001b[0m\n",
      "\u001b[0;32m/scratch/ponel/python/lib/python3.8/site-packages/pandas/core/internals/construction.py\u001b[0m in \u001b[0;36mndarray_to_mgr\u001b[0;34m(values, index, columns, dtype, copy, typ)\u001b[0m\n\u001b[1;32m    335\u001b[0m     )\n\u001b[1;32m    336\u001b[0m \u001b[0;34m\u001b[0m\u001b[0m\n\u001b[0;32m--> 337\u001b[0;31m     \u001b[0m_check_values_indices_shape_match\u001b[0m\u001b[0;34m(\u001b[0m\u001b[0mvalues\u001b[0m\u001b[0;34m,\u001b[0m \u001b[0mindex\u001b[0m\u001b[0;34m,\u001b[0m \u001b[0mcolumns\u001b[0m\u001b[0;34m)\u001b[0m\u001b[0;34m\u001b[0m\u001b[0;34m\u001b[0m\u001b[0m\n\u001b[0m\u001b[1;32m    338\u001b[0m \u001b[0;34m\u001b[0m\u001b[0m\n\u001b[1;32m    339\u001b[0m     \u001b[0;32mif\u001b[0m \u001b[0mtyp\u001b[0m \u001b[0;34m==\u001b[0m \u001b[0;34m\"array\"\u001b[0m\u001b[0;34m:\u001b[0m\u001b[0;34m\u001b[0m\u001b[0;34m\u001b[0m\u001b[0m\n",
      "\u001b[0;32m/scratch/ponel/python/lib/python3.8/site-packages/pandas/core/internals/construction.py\u001b[0m in \u001b[0;36m_check_values_indices_shape_match\u001b[0;34m(values, index, columns)\u001b[0m\n\u001b[1;32m    406\u001b[0m         \u001b[0mpassed\u001b[0m \u001b[0;34m=\u001b[0m \u001b[0mvalues\u001b[0m\u001b[0;34m.\u001b[0m\u001b[0mshape\u001b[0m\u001b[0;34m\u001b[0m\u001b[0;34m\u001b[0m\u001b[0m\n\u001b[1;32m    407\u001b[0m         \u001b[0mimplied\u001b[0m \u001b[0;34m=\u001b[0m \u001b[0;34m(\u001b[0m\u001b[0mlen\u001b[0m\u001b[0;34m(\u001b[0m\u001b[0mindex\u001b[0m\u001b[0;34m)\u001b[0m\u001b[0;34m,\u001b[0m \u001b[0mlen\u001b[0m\u001b[0;34m(\u001b[0m\u001b[0mcolumns\u001b[0m\u001b[0;34m)\u001b[0m\u001b[0;34m)\u001b[0m\u001b[0;34m\u001b[0m\u001b[0;34m\u001b[0m\u001b[0m\n\u001b[0;32m--> 408\u001b[0;31m         \u001b[0;32mraise\u001b[0m \u001b[0mValueError\u001b[0m\u001b[0;34m(\u001b[0m\u001b[0;34mf\"Shape of passed values is {passed}, indices imply {implied}\"\u001b[0m\u001b[0;34m)\u001b[0m\u001b[0;34m\u001b[0m\u001b[0;34m\u001b[0m\u001b[0m\n\u001b[0m\u001b[1;32m    409\u001b[0m \u001b[0;34m\u001b[0m\u001b[0m\n\u001b[1;32m    410\u001b[0m \u001b[0;34m\u001b[0m\u001b[0m\n",
      "\u001b[0;31mValueError\u001b[0m: Shape of passed values is (5, 5), indices imply (8, 8)"
     ]
    }
   ],
   "source": [
    "plot_comparison_heatmaps(\n",
    "    distances1=distances_1, \n",
    "    distances2=distances_2, \n",
    "    introspection_techniques=techniques, \n",
    "    distance_functions=[\"ssim\"], \n",
    "    use_diverging=True, \n",
    "    title_distances1=\"Unattacked High Dim\",\n",
    "    title_distances2=\"RandLabels High Dim\"\n",
    ")"
   ]
  },
  {
   "cell_type": "code",
   "execution_count": null,
   "id": "2e4e618c",
   "metadata": {},
   "outputs": [],
   "source": [
    "plot_comparison_heatmaps(\n",
    "    distances1=distances_1, \n",
    "    distances2=distances_3, \n",
    "    introspection_techniques=techniques, \n",
    "    distance_functions=[\"ssim\"], \n",
    "    use_diverging=True, \n",
    "    title_distances1=\"Unattacked High Dim\",\n",
    "    title_distances2=\"RandParams High Dim\"\n",
    ")"
   ]
  }
 ],
 "metadata": {
  "kernelspec": {
   "display_name": "Python 3 (ipykernel)",
   "language": "python",
   "name": "python3"
  },
  "language_info": {
   "codemirror_mode": {
    "name": "ipython",
    "version": 3
   },
   "file_extension": ".py",
   "mimetype": "text/x-python",
   "name": "python",
   "nbconvert_exporter": "python",
   "pygments_lexer": "ipython3",
   "version": "3.8.10"
  }
 },
 "nbformat": 4,
 "nbformat_minor": 5
}
