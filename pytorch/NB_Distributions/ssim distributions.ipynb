{
 "cells": [
  {
   "cell_type": "code",
   "execution_count": 1,
   "id": "36dce272",
   "metadata": {},
   "outputs": [
    {
     "name": "stderr",
     "output_type": "stream",
     "text": [
      "2023-11-01 13:44:42.726919: I tensorflow/core/platform/cpu_feature_guard.cc:193] This TensorFlow binary is optimized with oneAPI Deep Neural Network Library (oneDNN) to use the following CPU instructions in performance-critical operations:  AVX2 AVX512F FMA\n",
      "To enable them in other operations, rebuild TensorFlow with the appropriate compiler flags.\n",
      "2023-11-01 13:44:47.367099: W tensorflow/compiler/xla/stream_executor/platform/default/dso_loader.cc:64] Could not load dynamic library 'libnvinfer.so.7'; dlerror: libnvinfer.so.7: cannot open shared object file: No such file or directory; LD_LIBRARY_PATH: /scratch/ponel/python/lib/python3.8/site-packages/cv2/../../lib64:/usr/local/cuda-12.0/lib64\n",
      "2023-11-01 13:44:47.367215: W tensorflow/compiler/xla/stream_executor/platform/default/dso_loader.cc:64] Could not load dynamic library 'libnvinfer_plugin.so.7'; dlerror: libnvinfer_plugin.so.7: cannot open shared object file: No such file or directory; LD_LIBRARY_PATH: /scratch/ponel/python/lib/python3.8/site-packages/cv2/../../lib64:/usr/local/cuda-12.0/lib64\n",
      "2023-11-01 13:44:47.367229: W tensorflow/compiler/tf2tensorrt/utils/py_utils.cc:38] TF-TRT Warning: Cannot dlopen some TensorRT libraries. If you would like to use Nvidia GPU with TensorRT, please make sure the missing libraries mentioned above are installed properly.\n"
     ]
    }
   ],
   "source": [
    "import sys\n",
    "sys.path.append('/project/FoolingDetection/pytorch')\n",
    "\n",
    "from lib.VisualizationProvider import (plot_2d_distributions, \n",
    "                                       plot_scatter, \n",
    "                                       plot_gaussian_distributions,\n",
    "                                       plot_heatmap,\n",
    "                                       plot_comparison_heatmaps\n",
    "                                      )\n",
    "\n",
    "from lib.FeatureProvider import (load_all_grids, \n",
    "                                 load_all_grids_randparams,\n",
    "                                 reduce_dimensionality_umap, \n",
    "                                 reduce_dimensionality_kpca, \n",
    "                                 reduce_dimensionality_tsne\n",
    "                                )\n",
    "\n",
    "from lib.StaticMetricProvider import (test_all_introspection_technique_combinations, \n",
    "                                      calc_distributions, \n",
    "                                      get_values_from_distance_matrix, \n",
    "                                      difference_distances, \n",
    "                                      apply_log_to_distances\n",
    "                                     )\n",
    "from umap import UMAP\n",
    "from sklearn.manifold import TSNE\n",
    "from sklearn.decomposition import KernelPCA"
   ]
  },
  {
   "cell_type": "markdown",
   "id": "24573e62",
   "metadata": {},
   "source": [
    "# mnist@MLP"
   ]
  },
  {
   "cell_type": "code",
   "execution_count": 2,
   "id": "65338710",
   "metadata": {},
   "outputs": [],
   "source": [
    "MODEL_TYPE = \"mlp\"\n",
    "DATASET = \"mnist\"\n",
    "ATTACK1 = \"correct\"\n",
    "ATTACK2 = \"RandLabels\"\n",
    "ATTACK3 = \"RandParams/Cascading/4_Linear\"\n",
    "MAX_IMAGES = 300\n",
    "NUMBER_COMPONENTS = 2\n",
    "RANDOM_STATE = 42"
   ]
  },
  {
   "cell_type": "code",
   "execution_count": null,
   "id": "1712ab8e",
   "metadata": {},
   "outputs": [
    {
     "name": "stdout",
     "output_type": "stream",
     "text": [
      "Loading grids from disk...\n",
      "Loading image 50 out of 300 (16.67%)\n",
      "Loading image 100 out of 300 (33.33%)\n",
      "Loading image 150 out of 300 (50.00%)\n",
      "Loading image 200 out of 300 (66.67%)\n",
      "Loading image 250 out of 300 (83.33%)\n",
      "Loading image 300 out of 300 (100.00%)\n",
      "Loading grids from disk...\n",
      "Loading image 50 out of 300 (16.67%)\n",
      "Loading image 100 out of 300 (33.33%)\n",
      "Loading image 150 out of 300 (50.00%)\n",
      "Loading image 200 out of 300 (66.67%)\n",
      "Loading image 250 out of 300 (83.33%)\n",
      "Loading image 300 out of 300 (100.00%)\n",
      "Loading grids from disk...\n",
      "Loading image 50 out of 300 (16.67%)\n",
      "Loading image 100 out of 300 (33.33%)\n",
      "Loading image 150 out of 300 (50.00%)\n",
      "Loading image 200 out of 300 (66.67%)\n",
      "Loading image 250 out of 300 (83.33%)\n",
      "Loading image 300 out of 300 (100.00%)\n",
      "Loading grids from disk...\n",
      "Loading image 50 out of 300 (16.67%)\n",
      "Loading image 100 out of 300 (33.33%)\n",
      "Loading image 150 out of 300 (50.00%)\n",
      "Loading image 200 out of 300 (66.67%)\n",
      "Loading image 250 out of 300 (83.33%)\n",
      "Loading image 300 out of 300 (100.00%)\n",
      "Loading grids from disk...\n",
      "Loading image 50 out of 300 (16.67%)\n",
      "Loading image 100 out of 300 (33.33%)\n",
      "Loading image 150 out of 300 (50.00%)\n",
      "Loading image 200 out of 300 (66.67%)\n",
      "Loading image 250 out of 300 (83.33%)\n",
      "Loading image 300 out of 300 (100.00%)\n",
      "Loading grids from disk...\n",
      "Loading image 50 out of 300 (16.67%)\n",
      "Loading image 100 out of 300 (33.33%)\n",
      "Loading image 150 out of 300 (50.00%)\n",
      "Loading image 200 out of 300 (66.67%)\n",
      "Loading image 250 out of 300 (83.33%)\n",
      "Loading image 300 out of 300 (100.00%)\n",
      "Loading grids from disk...\n",
      "Loading image 50 out of 300 (16.67%)\n",
      "Loading image 100 out of 300 (33.33%)\n",
      "Loading image 150 out of 300 (50.00%)\n",
      "Loading image 200 out of 300 (66.67%)\n",
      "Loading image 250 out of 300 (83.33%)\n",
      "Loading image 300 out of 300 (100.00%)\n",
      "Loading grids from disk...\n",
      "Loading image 50 out of 300 (16.67%)\n",
      "Loading image 100 out of 300 (33.33%)\n",
      "Loading image 150 out of 300 (50.00%)\n",
      "Loading image 200 out of 300 (66.67%)\n",
      "Loading image 250 out of 300 (83.33%)\n",
      "Loading image 300 out of 300 (100.00%)\n",
      "Loading grids from disk...\n",
      "Loading image 50 out of 300 (16.67%)\n",
      "Loading image 100 out of 300 (33.33%)\n",
      "Loading image 150 out of 300 (50.00%)\n",
      "Loading image 200 out of 300 (66.67%)\n",
      "Loading image 250 out of 300 (83.33%)\n",
      "Loading image 300 out of 300 (100.00%)\n",
      "Loading grids from disk...\n",
      "Loading image 50 out of 300 (16.67%)\n",
      "Loading image 100 out of 300 (33.33%)\n",
      "Loading image 150 out of 300 (50.00%)\n",
      "Loading image 200 out of 300 (66.67%)\n",
      "Loading image 250 out of 300 (83.33%)\n",
      "Loading image 300 out of 300 (100.00%)\n",
      "Loading grids from disk...\n",
      "Loading image 50 out of 300 (16.67%)\n",
      "Loading image 100 out of 300 (33.33%)\n",
      "Loading image 150 out of 300 (50.00%)\n",
      "Loading image 200 out of 300 (66.67%)\n"
     ]
    }
   ],
   "source": [
    "all_grids_1 = load_all_grids(\n",
    "    model_type=MODEL_TYPE, \n",
    "    dataset=DATASET, \n",
    "    attack=ATTACK1, \n",
    "    max_images=MAX_IMAGES\n",
    ")\n",
    "all_grids_2 = load_all_grids(\n",
    "    model_type=MODEL_TYPE, \n",
    "    dataset=DATASET, \n",
    "    attack=ATTACK2, \n",
    "    max_images=MAX_IMAGES\n",
    ")\n",
    "\n",
    "all_grids_3 = load_all_grids(\n",
    "    model_type=MODEL_TYPE, \n",
    "    dataset=DATASET, \n",
    "    attack=ATTACK3, \n",
    "    max_images=MAX_IMAGES\n",
    ")\n",
    "\n",
    "distances_1, techniques, distance_functions = test_all_introspection_technique_combinations(\n",
    "    grids=all_grids_1, \n",
    "    print_results=False, \n",
    "    average_results=False,\n",
    "    use_ssim=True\n",
    ")\n",
    "distances_2, techniques, distance_functions = test_all_introspection_technique_combinations(\n",
    "    grids=all_grids_2, \n",
    "    print_results=False, \n",
    "    average_results=False,\n",
    "    use_ssim=True\n",
    ")\n",
    "distances_3, techniques, distance_functions = test_all_introspection_technique_combinations(\n",
    "    grids=all_grids_3, \n",
    "    print_results=False, \n",
    "    average_results=False,\n",
    "    use_ssim=True\n",
    ")\n",
    "\n",
    "difference_NoAttacked_RandLabels = difference_distances(\n",
    "    reference=distances_1, \n",
    "    delta=distances_2, \n",
    "    fold_change_and_log_scale=False\n",
    ")\n",
    "\n",
    "difference_NoAttacked_RandParams = difference_distances(\n",
    "    reference=distances_1, \n",
    "    delta=distances_3, \n",
    "    fold_change_and_log_scale=False\n",
    ")"
   ]
  },
  {
   "cell_type": "markdown",
   "id": "3fe85e8c",
   "metadata": {},
   "source": [
    "## Per-Image Comparison "
   ]
  },
  {
   "cell_type": "code",
   "execution_count": null,
   "id": "c9f36a04",
   "metadata": {},
   "outputs": [],
   "source": [
    "METRIC=\"ssim\""
   ]
  },
  {
   "cell_type": "markdown",
   "id": "47f89504",
   "metadata": {},
   "source": [
    "### No Attack"
   ]
  },
  {
   "cell_type": "code",
   "execution_count": null,
   "id": "af8492ca",
   "metadata": {},
   "outputs": [],
   "source": [
    "plot_gaussian_distributions(\n",
    "    distances=distances_1, \n",
    "    techniques=list(techniques), \n",
    "    metric=METRIC\n",
    ")"
   ]
  },
  {
   "cell_type": "markdown",
   "id": "d41bbb1e",
   "metadata": {},
   "source": [
    "### RandLabels Attack"
   ]
  },
  {
   "cell_type": "code",
   "execution_count": null,
   "id": "b464ad72",
   "metadata": {},
   "outputs": [],
   "source": [
    "plot_gaussian_distributions(\n",
    "    distances=distances_2, \n",
    "    techniques=list(techniques), \n",
    "    metric=METRIC\n",
    ")"
   ]
  },
  {
   "cell_type": "markdown",
   "id": "e75a4085",
   "metadata": {},
   "source": [
    "### RandParams Attack"
   ]
  },
  {
   "cell_type": "code",
   "execution_count": null,
   "id": "00dd2ec4",
   "metadata": {},
   "outputs": [],
   "source": [
    "plot_gaussian_distributions(\n",
    "    distances=distances_3,\n",
    "    techniques=list(techniques), \n",
    "    metric=METRIC\n",
    ")"
   ]
  },
  {
   "cell_type": "markdown",
   "id": "847a6606",
   "metadata": {},
   "source": [
    "### No Attack vs. RandLabels (Difference)"
   ]
  },
  {
   "cell_type": "code",
   "execution_count": null,
   "id": "6184e4b4",
   "metadata": {},
   "outputs": [],
   "source": [
    "plot_gaussian_distributions(\n",
    "    distances=difference_NoAttacked_RandLabels, \n",
    "    techniques=list(techniques), \n",
    "    metric=METRIC\n",
    ")"
   ]
  },
  {
   "cell_type": "markdown",
   "id": "c7bfec8f",
   "metadata": {},
   "source": [
    "### No Attack vs. RandParams (Difference)"
   ]
  },
  {
   "cell_type": "code",
   "execution_count": null,
   "id": "bc0c6afb",
   "metadata": {},
   "outputs": [],
   "source": [
    "plot_gaussian_distributions(\n",
    "    distances=difference_NoAttacked_RandParams, \n",
    "    techniques=list(techniques), \n",
    "    metric=METRIC\n",
    ")"
   ]
  },
  {
   "cell_type": "markdown",
   "id": "c08aded8",
   "metadata": {},
   "source": [
    "# mnist@CNN"
   ]
  },
  {
   "cell_type": "code",
   "execution_count": null,
   "id": "131b72ef",
   "metadata": {},
   "outputs": [],
   "source": [
    "MODEL_TYPE = \"cnn\"\n",
    "DATASET = \"mnist\"\n",
    "ATTACK1 = \"correct\"\n",
    "ATTACK2 = \"RandLabels\"\n",
    "ATTACK3 = \"RandParams/Cascading/4_Linear\"\n",
    "MAX_IMAGES = 300\n",
    "NUMBER_COMPONENTS = 2\n",
    "RANDOM_STATE = 42"
   ]
  },
  {
   "cell_type": "code",
   "execution_count": null,
   "id": "6d183d3a",
   "metadata": {},
   "outputs": [],
   "source": [
    "all_grids_1 = load_all_grids(\n",
    "    model_type=MODEL_TYPE, \n",
    "    dataset=DATASET, \n",
    "    attack=ATTACK1, \n",
    "    max_images=MAX_IMAGES\n",
    ")\n",
    "all_grids_2 = load_all_grids(\n",
    "    model_type=MODEL_TYPE, \n",
    "    dataset=DATASET, \n",
    "    attack=ATTACK2, \n",
    "    max_images=MAX_IMAGES\n",
    ")\n",
    "\n",
    "all_grids_3 = load_all_grids(\n",
    "    model_type=MODEL_TYPE, \n",
    "    dataset=DATASET, \n",
    "    attack=ATTACK3, \n",
    "    max_images=MAX_IMAGES\n",
    ")\n",
    "\n",
    "distances_1, techniques, distance_functions = test_all_introspection_technique_combinations(\n",
    "    grids=all_grids_1, \n",
    "    print_results=False, \n",
    "    average_results=False,\n",
    "    use_ssim=True\n",
    ")\n",
    "distances_2, techniques, distance_functions = test_all_introspection_technique_combinations(\n",
    "    grids=all_grids_2, \n",
    "    print_results=False, \n",
    "    average_results=False,\n",
    "    use_ssim=True\n",
    ")\n",
    "distances_3, techniques, distance_functions = test_all_introspection_technique_combinations(\n",
    "    grids=all_grids_3, \n",
    "    print_results=False, \n",
    "    average_results=False,\n",
    "    use_ssim=True\n",
    ")\n",
    "\n",
    "difference_NoAttacked_RandLabels = difference_distances(\n",
    "    reference=distances_1, \n",
    "    delta=distances_2, \n",
    "    fold_change_and_log_scale=False\n",
    ")\n",
    "\n",
    "difference_NoAttacked_RandParams = difference_distances(\n",
    "    reference=distances_1, \n",
    "    delta=distances_3, \n",
    "    fold_change_and_log_scale=False\n",
    ")"
   ]
  },
  {
   "cell_type": "markdown",
   "id": "3fe85e8c",
   "metadata": {},
   "source": [
    "## Per-Image Comparison "
   ]
  },
  {
   "cell_type": "code",
   "execution_count": null,
   "id": "c9f36a04",
   "metadata": {},
   "outputs": [],
   "source": [
    "METRIC=\"ssim\""
   ]
  },
  {
   "cell_type": "markdown",
   "id": "47f89504",
   "metadata": {},
   "source": [
    "### No Attack"
   ]
  },
  {
   "cell_type": "code",
   "execution_count": null,
   "id": "af8492ca",
   "metadata": {},
   "outputs": [],
   "source": [
    "plot_gaussian_distributions(\n",
    "    distances=distances_1, \n",
    "    techniques=list(techniques), \n",
    "    metric=METRIC\n",
    ")"
   ]
  },
  {
   "cell_type": "markdown",
   "id": "d41bbb1e",
   "metadata": {},
   "source": [
    "### RandLabels Attack"
   ]
  },
  {
   "cell_type": "code",
   "execution_count": null,
   "id": "b464ad72",
   "metadata": {},
   "outputs": [],
   "source": [
    "plot_gaussian_distributions(\n",
    "    distances=distances_2, \n",
    "    techniques=list(techniques), \n",
    "    metric=METRIC\n",
    ")"
   ]
  },
  {
   "cell_type": "markdown",
   "id": "e75a4085",
   "metadata": {},
   "source": [
    "### RandParams Attack"
   ]
  },
  {
   "cell_type": "code",
   "execution_count": null,
   "id": "00dd2ec4",
   "metadata": {},
   "outputs": [],
   "source": [
    "plot_gaussian_distributions(\n",
    "    distances=distances_3,\n",
    "    techniques=list(techniques), \n",
    "    metric=METRIC\n",
    ")"
   ]
  },
  {
   "cell_type": "markdown",
   "id": "847a6606",
   "metadata": {},
   "source": [
    "### No Attack vs. RandLabels (Difference)"
   ]
  },
  {
   "cell_type": "code",
   "execution_count": null,
   "id": "6184e4b4",
   "metadata": {},
   "outputs": [],
   "source": [
    "plot_gaussian_distributions(\n",
    "    distances=difference_NoAttacked_RandLabels, \n",
    "    techniques=list(techniques), \n",
    "    metric=METRIC\n",
    ")"
   ]
  },
  {
   "cell_type": "markdown",
   "id": "c7bfec8f",
   "metadata": {},
   "source": [
    "### No Attack vs. RandParams (Difference)"
   ]
  },
  {
   "cell_type": "code",
   "execution_count": null,
   "id": "c7bfec8f",
   "metadata": {},
   "outputs": [],
   "source": [
    "plot_gaussian_distributions(\n",
    "    distances=difference_NoAttacked_RandParams, \n",
    "    techniques=list(techniques), \n",
    "    metric=METRIC\n",
    ")"
   ]
  },
  {
   "cell_type": "markdown",
   "id": "24573e62",
   "metadata": {},
   "source": [
    "# cifar10@MLP"
   ]
  },
  {
   "cell_type": "code",
   "execution_count": null,
   "id": "65338710",
   "metadata": {},
   "outputs": [],
   "source": [
    "MODEL_TYPE = \"mlp\"\n",
    "DATASET = \"cifar10\"\n",
    "ATTACK1 = \"correct\"\n",
    "ATTACK2 = \"RandLabels\"\n",
    "ATTACK3 = \"RandParams/Cascading/4_Linear\"\n",
    "MAX_IMAGES = 300\n",
    "NUMBER_COMPONENTS = 2\n",
    "RANDOM_STATE = 42"
   ]
  },
  {
   "cell_type": "code",
   "execution_count": null,
   "id": "1712ab8e",
   "metadata": {},
   "outputs": [],
   "source": [
    "all_grids_1 = load_all_grids(\n",
    "    model_type=MODEL_TYPE, \n",
    "    dataset=DATASET, \n",
    "    attack=ATTACK1, \n",
    "    max_images=MAX_IMAGES\n",
    ")\n",
    "all_grids_2 = load_all_grids(\n",
    "    model_type=MODEL_TYPE, \n",
    "    dataset=DATASET, \n",
    "    attack=ATTACK2, \n",
    "    max_images=MAX_IMAGES\n",
    ")\n",
    "\n",
    "all_grids_3 = load_all_grids(\n",
    "    model_type=MODEL_TYPE, \n",
    "    dataset=DATASET, \n",
    "    attack=ATTACK3, \n",
    "    max_images=MAX_IMAGES\n",
    ")\n",
    "\n",
    "distances_1, techniques, distance_functions = test_all_introspection_technique_combinations(\n",
    "    grids=all_grids_1, \n",
    "    print_results=False, \n",
    "    average_results=False,\n",
    "    use_ssim=True\n",
    ")\n",
    "distances_2, techniques, distance_functions = test_all_introspection_technique_combinations(\n",
    "    grids=all_grids_2, \n",
    "    print_results=False, \n",
    "    average_results=False,\n",
    "    use_ssim=True\n",
    ")\n",
    "distances_3, techniques, distance_functions = test_all_introspection_technique_combinations(\n",
    "    grids=all_grids_3, \n",
    "    print_results=False, \n",
    "    average_results=False,\n",
    "    use_ssim=True\n",
    ")\n",
    "\n",
    "difference_NoAttacked_RandLabels = difference_distances(\n",
    "    reference=distances_1, \n",
    "    delta=distances_2, \n",
    "    fold_change_and_log_scale=False\n",
    ")\n",
    "\n",
    "difference_NoAttacked_RandParams = difference_distances(\n",
    "    reference=distances_1, \n",
    "    delta=distances_3, \n",
    "    fold_change_and_log_scale=False\n",
    ")"
   ]
  },
  {
   "cell_type": "markdown",
   "id": "3fe85e8c",
   "metadata": {},
   "source": [
    "## Per-Image Comparison "
   ]
  },
  {
   "cell_type": "code",
   "execution_count": null,
   "id": "c9f36a04",
   "metadata": {},
   "outputs": [],
   "source": [
    "METRIC=\"ssim\""
   ]
  },
  {
   "cell_type": "markdown",
   "id": "47f89504",
   "metadata": {},
   "source": [
    "### No Attack"
   ]
  },
  {
   "cell_type": "code",
   "execution_count": null,
   "id": "af8492ca",
   "metadata": {},
   "outputs": [],
   "source": [
    "plot_gaussian_distributions(\n",
    "    distances=distances_1, \n",
    "    techniques=list(techniques), \n",
    "    metric=METRIC\n",
    ")"
   ]
  },
  {
   "cell_type": "markdown",
   "id": "d41bbb1e",
   "metadata": {},
   "source": [
    "### RandLabels Attack"
   ]
  },
  {
   "cell_type": "code",
   "execution_count": null,
   "id": "b464ad72",
   "metadata": {},
   "outputs": [],
   "source": [
    "plot_gaussian_distributions(\n",
    "    distances=distances_2, \n",
    "    techniques=list(techniques), \n",
    "    metric=METRIC\n",
    ")"
   ]
  },
  {
   "cell_type": "markdown",
   "id": "e75a4085",
   "metadata": {},
   "source": [
    "### RandParams Attack"
   ]
  },
  {
   "cell_type": "code",
   "execution_count": null,
   "id": "00dd2ec4",
   "metadata": {},
   "outputs": [],
   "source": [
    "plot_gaussian_distributions(\n",
    "    distances=distances_3,\n",
    "    techniques=list(techniques), \n",
    "    metric=METRIC\n",
    ")"
   ]
  },
  {
   "cell_type": "markdown",
   "id": "847a6606",
   "metadata": {},
   "source": [
    "### No Attack vs. RandLabels (Difference)"
   ]
  },
  {
   "cell_type": "code",
   "execution_count": null,
   "id": "6184e4b4",
   "metadata": {},
   "outputs": [],
   "source": [
    "plot_gaussian_distributions(\n",
    "    distances=difference_NoAttacked_RandLabels, \n",
    "    techniques=list(techniques), \n",
    "    metric=METRIC\n",
    ")"
   ]
  },
  {
   "cell_type": "markdown",
   "id": "c7bfec8f",
   "metadata": {},
   "source": [
    "### No Attack vs. RandParams (Difference)"
   ]
  },
  {
   "cell_type": "code",
   "execution_count": null,
   "id": "c7bfec8f",
   "metadata": {},
   "outputs": [],
   "source": [
    "plot_gaussian_distributions(\n",
    "    distances=difference_NoAttacked_RandParams, \n",
    "    techniques=list(techniques), \n",
    "    metric=METRIC\n",
    ")"
   ]
  },
  {
   "cell_type": "markdown",
   "id": "24573e62",
   "metadata": {},
   "source": [
    "# cifar@CNN"
   ]
  },
  {
   "cell_type": "code",
   "execution_count": null,
   "id": "65338710",
   "metadata": {},
   "outputs": [],
   "source": [
    "MODEL_TYPE = \"cnn\"\n",
    "DATASET = \"cifar10\"\n",
    "ATTACK1 = \"correct\"\n",
    "ATTACK2 = \"RandLabels\"\n",
    "ATTACK3 = \"RandParams/Cascading/4_Linear\"\n",
    "MAX_IMAGES = 300\n",
    "NUMBER_COMPONENTS = 2\n",
    "RANDOM_STATE = 42"
   ]
  },
  {
   "cell_type": "code",
   "execution_count": null,
   "id": "1712ab8e",
   "metadata": {},
   "outputs": [],
   "source": [
    "all_grids_1 = load_all_grids(\n",
    "    model_type=MODEL_TYPE, \n",
    "    dataset=DATASET, \n",
    "    attack=ATTACK1, \n",
    "    max_images=MAX_IMAGES\n",
    ")\n",
    "all_grids_2 = load_all_grids(\n",
    "    model_type=MODEL_TYPE, \n",
    "    dataset=DATASET, \n",
    "    attack=ATTACK2, \n",
    "    max_images=MAX_IMAGES\n",
    ")\n",
    "\n",
    "all_grids_3 = load_all_grids(\n",
    "    model_type=MODEL_TYPE, \n",
    "    dataset=DATASET, \n",
    "    attack=ATTACK3, \n",
    "    max_images=MAX_IMAGES\n",
    ")\n",
    "\n",
    "distances_1, techniques, distance_functions = test_all_introspection_technique_combinations(\n",
    "    grids=all_grids_1, \n",
    "    print_results=False, \n",
    "    average_results=False,\n",
    "    use_ssim=True\n",
    ")\n",
    "distances_2, techniques, distance_functions = test_all_introspection_technique_combinations(\n",
    "    grids=all_grids_2, \n",
    "    print_results=False, \n",
    "    average_results=False,\n",
    "    use_ssim=True\n",
    ")\n",
    "distances_3, techniques, distance_functions = test_all_introspection_technique_combinations(\n",
    "    grids=all_grids_3, \n",
    "    print_results=False, \n",
    "    average_results=False,\n",
    "    use_ssim=True\n",
    ")\n",
    "\n",
    "difference_NoAttacked_RandLabels = difference_distances(\n",
    "    reference=distances_1, \n",
    "    delta=distances_2, \n",
    "    fold_change_and_log_scale=False\n",
    ")\n",
    "\n",
    "difference_NoAttacked_RandParams = difference_distances(\n",
    "    reference=distances_1, \n",
    "    delta=distances_3, \n",
    "    fold_change_and_log_scale=False\n",
    ")"
   ]
  },
  {
   "cell_type": "markdown",
   "id": "3fe85e8c",
   "metadata": {},
   "source": [
    "## Per-Image Comparison "
   ]
  },
  {
   "cell_type": "code",
   "execution_count": null,
   "id": "c9f36a04",
   "metadata": {},
   "outputs": [],
   "source": [
    "METRIC=\"ssim\""
   ]
  },
  {
   "cell_type": "markdown",
   "id": "47f89504",
   "metadata": {},
   "source": [
    "### No Attack"
   ]
  },
  {
   "cell_type": "code",
   "execution_count": null,
   "id": "af8492ca",
   "metadata": {},
   "outputs": [],
   "source": [
    "plot_gaussian_distributions(\n",
    "    distances=distances_1, \n",
    "    techniques=list(techniques), \n",
    "    metric=METRIC\n",
    ")"
   ]
  },
  {
   "cell_type": "markdown",
   "id": "d41bbb1e",
   "metadata": {},
   "source": [
    "### RandLabels Attack"
   ]
  },
  {
   "cell_type": "code",
   "execution_count": null,
   "id": "b464ad72",
   "metadata": {},
   "outputs": [],
   "source": [
    "plot_gaussian_distributions(\n",
    "    distances=distances_2, \n",
    "    techniques=list(techniques), \n",
    "    metric=METRIC\n",
    ")"
   ]
  },
  {
   "cell_type": "markdown",
   "id": "e75a4085",
   "metadata": {},
   "source": [
    "### RandParams Attack"
   ]
  },
  {
   "cell_type": "code",
   "execution_count": null,
   "id": "00dd2ec4",
   "metadata": {},
   "outputs": [],
   "source": [
    "plot_gaussian_distributions(\n",
    "    distances=distances_3,\n",
    "    techniques=list(techniques), \n",
    "    metric=METRIC\n",
    ")"
   ]
  },
  {
   "cell_type": "markdown",
   "id": "847a6606",
   "metadata": {},
   "source": [
    "### No Attack vs. RandLabels (Difference)"
   ]
  },
  {
   "cell_type": "code",
   "execution_count": null,
   "id": "6184e4b4",
   "metadata": {},
   "outputs": [],
   "source": [
    "plot_gaussian_distributions(\n",
    "    distances=difference_NoAttacked_RandLabels, \n",
    "    techniques=list(techniques), \n",
    "    metric=METRIC\n",
    ")"
   ]
  },
  {
   "cell_type": "markdown",
   "id": "c7bfec8f",
   "metadata": {},
   "source": [
    "### No Attack vs. RandParams (Difference)"
   ]
  },
  {
   "cell_type": "code",
   "execution_count": null,
   "id": "c7bfec8f",
   "metadata": {},
   "outputs": [],
   "source": [
    "plot_gaussian_distributions(\n",
    "    distances=difference_NoAttacked_RandParams, \n",
    "    techniques=list(techniques), \n",
    "    metric=METRIC\n",
    ")"
   ]
  },
  {
   "cell_type": "code",
   "execution_count": null,
   "id": "35f8733a",
   "metadata": {},
   "outputs": [],
   "source": []
  }
 ],
 "metadata": {
  "kernelspec": {
   "display_name": "Python 3 (ipykernel)",
   "language": "python",
   "name": "python3"
  },
  "language_info": {
   "codemirror_mode": {
    "name": "ipython",
    "version": 3
   },
   "file_extension": ".py",
   "mimetype": "text/x-python",
   "name": "python",
   "nbconvert_exporter": "python",
   "pygments_lexer": "ipython3",
   "version": "3.8.10"
  }
 },
 "nbformat": 4,
 "nbformat_minor": 5
}
